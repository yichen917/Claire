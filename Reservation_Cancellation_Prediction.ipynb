{
  "cells": [
    {
      "cell_type": "markdown",
      "source": [
        "# **Reservation Cancellation Prediction (Neural Network)**"
      ],
      "metadata": {
        "id": "c8C7w-BUbbyj"
      }
    },
    {
      "cell_type": "markdown",
      "metadata": {
        "id": "NZb6pFFYqUZG"
      },
      "source": [
        "##<font color = red> **Part A - EDA, Pre-processing, and Model Building**</font>  \n",
        "\n",
        "**Description**\n",
        "\n",
        "In this assignment, I will use the dataset to predict whether costumers will cancel their reservations."
      ]
    },
    {
      "cell_type": "markdown",
      "metadata": {
        "id": "aKSDmdDHqUZN"
      },
      "source": [
        "### **<font color = blue>Step 1 : Import Data**"
      ]
    },
    {
      "cell_type": "code",
      "source": [
        "from google.colab import files"
      ],
      "metadata": {
        "id": "yAsrvnloJXCl"
      },
      "execution_count": null,
      "outputs": []
    },
    {
      "cell_type": "code",
      "source": [
        "from google.colab import drive\n",
        "drive.mount('/content/drive')"
      ],
      "metadata": {
        "colab": {
          "base_uri": "https://localhost:8080/"
        },
        "id": "kNh41L3pJdVf",
        "outputId": "9824c481-b791-4886-f6ea-7e8eccb7aaf0"
      },
      "execution_count": null,
      "outputs": [
        {
          "output_type": "stream",
          "name": "stdout",
          "text": [
            "Drive already mounted at /content/drive; to attempt to forcibly remount, call drive.mount(\"/content/drive\", force_remount=True).\n"
          ]
        }
      ]
    },
    {
      "cell_type": "code",
      "source": [
        "base_dir = '/content/drive/My Drive/Colab Notebook/QBS HW1/'"
      ],
      "metadata": {
        "id": "eepKtTeJJzSM"
      },
      "execution_count": null,
      "outputs": []
    },
    {
      "cell_type": "code",
      "execution_count": null,
      "metadata": {
        "id": "Oa1h9IunqUZP",
        "colab": {
          "base_uri": "https://localhost:8080/"
        },
        "outputId": "51a090e1-50be-45a8-abe1-4b02fa92e276"
      },
      "outputs": [
        {
          "output_type": "stream",
          "name": "stderr",
          "text": [
            "<ipython-input-4-e7d08cb7948d>:10: FutureWarning: The frame.append method is deprecated and will be removed from pandas in a future version. Use pandas.concat instead.\n",
            "  x_data = x_train.append(x_test)\n"
          ]
        }
      ],
      "source": [
        "import pandas as pd\n",
        "import numpy as np\n",
        "import matplotlib.pyplot as plt\n",
        "\n",
        "x_train = pd.read_csv(base_dir +\"train.csv\", usecols = range(15))\n",
        "x_test = pd.read_csv(base_dir +\"test.csv\")\n",
        "y_train = pd.read_csv(base_dir +\"train.csv\", usecols = [15])\n",
        "\n",
        "# Combine x_train and x_test in order to explore data and tackle with missing value later\n",
        "x_data = x_train.append(x_test)"
      ]
    },
    {
      "cell_type": "code",
      "source": [
        "x_data.head()"
      ],
      "metadata": {
        "colab": {
          "base_uri": "https://localhost:8080/",
          "height": 206
        },
        "id": "AY6Ih8IMMyWk",
        "outputId": "b32cf895-d288-46f2-caca-b14cec6a0a4e"
      },
      "execution_count": null,
      "outputs": [
        {
          "output_type": "execute_result",
          "data": {
            "text/plain": [
              "   ID  Age Workclass  fnlwgt      Education  Education_Num  \\\n",
              "0   2   38   Private   89814        HS-grad              9   \n",
              "1   5   18       NaN  103497   Some-college             10   \n",
              "2   6   34   Private  198693           10th              6   \n",
              "3   7   29       NaN  227026        HS-grad              9   \n",
              "4  10   55   Private  104996        7th-8th              4   \n",
              "\n",
              "        Martial_Status        Occupation    Relationship    Race      Sex  \\\n",
              "0   Married-civ-spouse   Farming-fishing         Husband   White     Male   \n",
              "1        Never-married               NaN       Own-child   White   Female   \n",
              "2        Never-married     Other-service   Not-in-family   White     Male   \n",
              "3        Never-married               NaN       Unmarried   Black     Male   \n",
              "4   Married-civ-spouse      Craft-repair         Husband   White     Male   \n",
              "\n",
              "   Capital_Gain  Capital_Loss  Hours_per_week         Country  \n",
              "0             0             0              50   United-States  \n",
              "1             0             0              30   United-States  \n",
              "2             0             0              30   United-States  \n",
              "3             0             0              40   United-States  \n",
              "4             0             0              10   United-States  "
            ],
            "text/html": [
              "\n",
              "  <div id=\"df-43a0f63d-8cb2-42cc-b29b-620d63516f8d\" class=\"colab-df-container\">\n",
              "    <div>\n",
              "<style scoped>\n",
              "    .dataframe tbody tr th:only-of-type {\n",
              "        vertical-align: middle;\n",
              "    }\n",
              "\n",
              "    .dataframe tbody tr th {\n",
              "        vertical-align: top;\n",
              "    }\n",
              "\n",
              "    .dataframe thead th {\n",
              "        text-align: right;\n",
              "    }\n",
              "</style>\n",
              "<table border=\"1\" class=\"dataframe\">\n",
              "  <thead>\n",
              "    <tr style=\"text-align: right;\">\n",
              "      <th></th>\n",
              "      <th>ID</th>\n",
              "      <th>Age</th>\n",
              "      <th>Workclass</th>\n",
              "      <th>fnlwgt</th>\n",
              "      <th>Education</th>\n",
              "      <th>Education_Num</th>\n",
              "      <th>Martial_Status</th>\n",
              "      <th>Occupation</th>\n",
              "      <th>Relationship</th>\n",
              "      <th>Race</th>\n",
              "      <th>Sex</th>\n",
              "      <th>Capital_Gain</th>\n",
              "      <th>Capital_Loss</th>\n",
              "      <th>Hours_per_week</th>\n",
              "      <th>Country</th>\n",
              "    </tr>\n",
              "  </thead>\n",
              "  <tbody>\n",
              "    <tr>\n",
              "      <th>0</th>\n",
              "      <td>2</td>\n",
              "      <td>38</td>\n",
              "      <td>Private</td>\n",
              "      <td>89814</td>\n",
              "      <td>HS-grad</td>\n",
              "      <td>9</td>\n",
              "      <td>Married-civ-spouse</td>\n",
              "      <td>Farming-fishing</td>\n",
              "      <td>Husband</td>\n",
              "      <td>White</td>\n",
              "      <td>Male</td>\n",
              "      <td>0</td>\n",
              "      <td>0</td>\n",
              "      <td>50</td>\n",
              "      <td>United-States</td>\n",
              "    </tr>\n",
              "    <tr>\n",
              "      <th>1</th>\n",
              "      <td>5</td>\n",
              "      <td>18</td>\n",
              "      <td>NaN</td>\n",
              "      <td>103497</td>\n",
              "      <td>Some-college</td>\n",
              "      <td>10</td>\n",
              "      <td>Never-married</td>\n",
              "      <td>NaN</td>\n",
              "      <td>Own-child</td>\n",
              "      <td>White</td>\n",
              "      <td>Female</td>\n",
              "      <td>0</td>\n",
              "      <td>0</td>\n",
              "      <td>30</td>\n",
              "      <td>United-States</td>\n",
              "    </tr>\n",
              "    <tr>\n",
              "      <th>2</th>\n",
              "      <td>6</td>\n",
              "      <td>34</td>\n",
              "      <td>Private</td>\n",
              "      <td>198693</td>\n",
              "      <td>10th</td>\n",
              "      <td>6</td>\n",
              "      <td>Never-married</td>\n",
              "      <td>Other-service</td>\n",
              "      <td>Not-in-family</td>\n",
              "      <td>White</td>\n",
              "      <td>Male</td>\n",
              "      <td>0</td>\n",
              "      <td>0</td>\n",
              "      <td>30</td>\n",
              "      <td>United-States</td>\n",
              "    </tr>\n",
              "    <tr>\n",
              "      <th>3</th>\n",
              "      <td>7</td>\n",
              "      <td>29</td>\n",
              "      <td>NaN</td>\n",
              "      <td>227026</td>\n",
              "      <td>HS-grad</td>\n",
              "      <td>9</td>\n",
              "      <td>Never-married</td>\n",
              "      <td>NaN</td>\n",
              "      <td>Unmarried</td>\n",
              "      <td>Black</td>\n",
              "      <td>Male</td>\n",
              "      <td>0</td>\n",
              "      <td>0</td>\n",
              "      <td>40</td>\n",
              "      <td>United-States</td>\n",
              "    </tr>\n",
              "    <tr>\n",
              "      <th>4</th>\n",
              "      <td>10</td>\n",
              "      <td>55</td>\n",
              "      <td>Private</td>\n",
              "      <td>104996</td>\n",
              "      <td>7th-8th</td>\n",
              "      <td>4</td>\n",
              "      <td>Married-civ-spouse</td>\n",
              "      <td>Craft-repair</td>\n",
              "      <td>Husband</td>\n",
              "      <td>White</td>\n",
              "      <td>Male</td>\n",
              "      <td>0</td>\n",
              "      <td>0</td>\n",
              "      <td>10</td>\n",
              "      <td>United-States</td>\n",
              "    </tr>\n",
              "  </tbody>\n",
              "</table>\n",
              "</div>\n",
              "    <div class=\"colab-df-buttons\">\n",
              "\n",
              "  <div class=\"colab-df-container\">\n",
              "    <button class=\"colab-df-convert\" onclick=\"convertToInteractive('df-43a0f63d-8cb2-42cc-b29b-620d63516f8d')\"\n",
              "            title=\"Convert this dataframe to an interactive table.\"\n",
              "            style=\"display:none;\">\n",
              "\n",
              "  <svg xmlns=\"http://www.w3.org/2000/svg\" height=\"24px\" viewBox=\"0 -960 960 960\">\n",
              "    <path d=\"M120-120v-720h720v720H120Zm60-500h600v-160H180v160Zm220 220h160v-160H400v160Zm0 220h160v-160H400v160ZM180-400h160v-160H180v160Zm440 0h160v-160H620v160ZM180-180h160v-160H180v160Zm440 0h160v-160H620v160Z\"/>\n",
              "  </svg>\n",
              "    </button>\n",
              "\n",
              "  <style>\n",
              "    .colab-df-container {\n",
              "      display:flex;\n",
              "      gap: 12px;\n",
              "    }\n",
              "\n",
              "    .colab-df-convert {\n",
              "      background-color: #E8F0FE;\n",
              "      border: none;\n",
              "      border-radius: 50%;\n",
              "      cursor: pointer;\n",
              "      display: none;\n",
              "      fill: #1967D2;\n",
              "      height: 32px;\n",
              "      padding: 0 0 0 0;\n",
              "      width: 32px;\n",
              "    }\n",
              "\n",
              "    .colab-df-convert:hover {\n",
              "      background-color: #E2EBFA;\n",
              "      box-shadow: 0px 1px 2px rgba(60, 64, 67, 0.3), 0px 1px 3px 1px rgba(60, 64, 67, 0.15);\n",
              "      fill: #174EA6;\n",
              "    }\n",
              "\n",
              "    .colab-df-buttons div {\n",
              "      margin-bottom: 4px;\n",
              "    }\n",
              "\n",
              "    [theme=dark] .colab-df-convert {\n",
              "      background-color: #3B4455;\n",
              "      fill: #D2E3FC;\n",
              "    }\n",
              "\n",
              "    [theme=dark] .colab-df-convert:hover {\n",
              "      background-color: #434B5C;\n",
              "      box-shadow: 0px 1px 3px 1px rgba(0, 0, 0, 0.15);\n",
              "      filter: drop-shadow(0px 1px 2px rgba(0, 0, 0, 0.3));\n",
              "      fill: #FFFFFF;\n",
              "    }\n",
              "  </style>\n",
              "\n",
              "    <script>\n",
              "      const buttonEl =\n",
              "        document.querySelector('#df-43a0f63d-8cb2-42cc-b29b-620d63516f8d button.colab-df-convert');\n",
              "      buttonEl.style.display =\n",
              "        google.colab.kernel.accessAllowed ? 'block' : 'none';\n",
              "\n",
              "      async function convertToInteractive(key) {\n",
              "        const element = document.querySelector('#df-43a0f63d-8cb2-42cc-b29b-620d63516f8d');\n",
              "        const dataTable =\n",
              "          await google.colab.kernel.invokeFunction('convertToInteractive',\n",
              "                                                    [key], {});\n",
              "        if (!dataTable) return;\n",
              "\n",
              "        const docLinkHtml = 'Like what you see? Visit the ' +\n",
              "          '<a target=\"_blank\" href=https://colab.research.google.com/notebooks/data_table.ipynb>data table notebook</a>'\n",
              "          + ' to learn more about interactive tables.';\n",
              "        element.innerHTML = '';\n",
              "        dataTable['output_type'] = 'display_data';\n",
              "        await google.colab.output.renderOutput(dataTable, element);\n",
              "        const docLink = document.createElement('div');\n",
              "        docLink.innerHTML = docLinkHtml;\n",
              "        element.appendChild(docLink);\n",
              "      }\n",
              "    </script>\n",
              "  </div>\n",
              "\n",
              "\n",
              "<div id=\"df-d744227c-b794-4a9c-b523-9c57893bd106\">\n",
              "  <button class=\"colab-df-quickchart\" onclick=\"quickchart('df-d744227c-b794-4a9c-b523-9c57893bd106')\"\n",
              "            title=\"Suggest charts\"\n",
              "            style=\"display:none;\">\n",
              "\n",
              "<svg xmlns=\"http://www.w3.org/2000/svg\" height=\"24px\"viewBox=\"0 0 24 24\"\n",
              "     width=\"24px\">\n",
              "    <g>\n",
              "        <path d=\"M19 3H5c-1.1 0-2 .9-2 2v14c0 1.1.9 2 2 2h14c1.1 0 2-.9 2-2V5c0-1.1-.9-2-2-2zM9 17H7v-7h2v7zm4 0h-2V7h2v10zm4 0h-2v-4h2v4z\"/>\n",
              "    </g>\n",
              "</svg>\n",
              "  </button>\n",
              "\n",
              "<style>\n",
              "  .colab-df-quickchart {\n",
              "      --bg-color: #E8F0FE;\n",
              "      --fill-color: #1967D2;\n",
              "      --hover-bg-color: #E2EBFA;\n",
              "      --hover-fill-color: #174EA6;\n",
              "      --disabled-fill-color: #AAA;\n",
              "      --disabled-bg-color: #DDD;\n",
              "  }\n",
              "\n",
              "  [theme=dark] .colab-df-quickchart {\n",
              "      --bg-color: #3B4455;\n",
              "      --fill-color: #D2E3FC;\n",
              "      --hover-bg-color: #434B5C;\n",
              "      --hover-fill-color: #FFFFFF;\n",
              "      --disabled-bg-color: #3B4455;\n",
              "      --disabled-fill-color: #666;\n",
              "  }\n",
              "\n",
              "  .colab-df-quickchart {\n",
              "    background-color: var(--bg-color);\n",
              "    border: none;\n",
              "    border-radius: 50%;\n",
              "    cursor: pointer;\n",
              "    display: none;\n",
              "    fill: var(--fill-color);\n",
              "    height: 32px;\n",
              "    padding: 0;\n",
              "    width: 32px;\n",
              "  }\n",
              "\n",
              "  .colab-df-quickchart:hover {\n",
              "    background-color: var(--hover-bg-color);\n",
              "    box-shadow: 0 1px 2px rgba(60, 64, 67, 0.3), 0 1px 3px 1px rgba(60, 64, 67, 0.15);\n",
              "    fill: var(--button-hover-fill-color);\n",
              "  }\n",
              "\n",
              "  .colab-df-quickchart-complete:disabled,\n",
              "  .colab-df-quickchart-complete:disabled:hover {\n",
              "    background-color: var(--disabled-bg-color);\n",
              "    fill: var(--disabled-fill-color);\n",
              "    box-shadow: none;\n",
              "  }\n",
              "\n",
              "  .colab-df-spinner {\n",
              "    border: 2px solid var(--fill-color);\n",
              "    border-color: transparent;\n",
              "    border-bottom-color: var(--fill-color);\n",
              "    animation:\n",
              "      spin 1s steps(1) infinite;\n",
              "  }\n",
              "\n",
              "  @keyframes spin {\n",
              "    0% {\n",
              "      border-color: transparent;\n",
              "      border-bottom-color: var(--fill-color);\n",
              "      border-left-color: var(--fill-color);\n",
              "    }\n",
              "    20% {\n",
              "      border-color: transparent;\n",
              "      border-left-color: var(--fill-color);\n",
              "      border-top-color: var(--fill-color);\n",
              "    }\n",
              "    30% {\n",
              "      border-color: transparent;\n",
              "      border-left-color: var(--fill-color);\n",
              "      border-top-color: var(--fill-color);\n",
              "      border-right-color: var(--fill-color);\n",
              "    }\n",
              "    40% {\n",
              "      border-color: transparent;\n",
              "      border-right-color: var(--fill-color);\n",
              "      border-top-color: var(--fill-color);\n",
              "    }\n",
              "    60% {\n",
              "      border-color: transparent;\n",
              "      border-right-color: var(--fill-color);\n",
              "    }\n",
              "    80% {\n",
              "      border-color: transparent;\n",
              "      border-right-color: var(--fill-color);\n",
              "      border-bottom-color: var(--fill-color);\n",
              "    }\n",
              "    90% {\n",
              "      border-color: transparent;\n",
              "      border-bottom-color: var(--fill-color);\n",
              "    }\n",
              "  }\n",
              "</style>\n",
              "\n",
              "  <script>\n",
              "    async function quickchart(key) {\n",
              "      const quickchartButtonEl =\n",
              "        document.querySelector('#' + key + ' button');\n",
              "      quickchartButtonEl.disabled = true;  // To prevent multiple clicks.\n",
              "      quickchartButtonEl.classList.add('colab-df-spinner');\n",
              "      try {\n",
              "        const charts = await google.colab.kernel.invokeFunction(\n",
              "            'suggestCharts', [key], {});\n",
              "      } catch (error) {\n",
              "        console.error('Error during call to suggestCharts:', error);\n",
              "      }\n",
              "      quickchartButtonEl.classList.remove('colab-df-spinner');\n",
              "      quickchartButtonEl.classList.add('colab-df-quickchart-complete');\n",
              "    }\n",
              "    (() => {\n",
              "      let quickchartButtonEl =\n",
              "        document.querySelector('#df-d744227c-b794-4a9c-b523-9c57893bd106 button');\n",
              "      quickchartButtonEl.style.display =\n",
              "        google.colab.kernel.accessAllowed ? 'block' : 'none';\n",
              "    })();\n",
              "  </script>\n",
              "</div>\n",
              "\n",
              "    </div>\n",
              "  </div>\n"
            ]
          },
          "metadata": {},
          "execution_count": 5
        }
      ]
    },
    {
      "cell_type": "code",
      "source": [
        "x_data.info()"
      ],
      "metadata": {
        "colab": {
          "base_uri": "https://localhost:8080/"
        },
        "id": "TSqwT_HzM1n-",
        "outputId": "ecf9eedb-31d8-45b2-f3a0-f35486a3c96e"
      },
      "execution_count": null,
      "outputs": [
        {
          "output_type": "stream",
          "name": "stdout",
          "text": [
            "<class 'pandas.core.frame.DataFrame'>\n",
            "Int64Index: 48842 entries, 0 to 19327\n",
            "Data columns (total 15 columns):\n",
            " #   Column          Non-Null Count  Dtype \n",
            "---  ------          --------------  ----- \n",
            " 0   ID              48842 non-null  int64 \n",
            " 1   Age             48842 non-null  int64 \n",
            " 2   Workclass       46043 non-null  object\n",
            " 3   fnlwgt          48842 non-null  int64 \n",
            " 4   Education       48842 non-null  object\n",
            " 5   Education_Num   48842 non-null  int64 \n",
            " 6   Martial_Status  48842 non-null  object\n",
            " 7   Occupation      46033 non-null  object\n",
            " 8   Relationship    48842 non-null  object\n",
            " 9   Race            48842 non-null  object\n",
            " 10  Sex             48842 non-null  object\n",
            " 11  Capital_Gain    48842 non-null  int64 \n",
            " 12  Capital_Loss    48842 non-null  int64 \n",
            " 13  Hours_per_week  48842 non-null  int64 \n",
            " 14  Country         47985 non-null  object\n",
            "dtypes: int64(7), object(8)\n",
            "memory usage: 6.0+ MB\n"
          ]
        }
      ]
    },
    {
      "cell_type": "markdown",
      "source": [
        "From the info above, we know that we need to at least deal with the following things.\n",
        "1. Missing value: Workclass, Occupation, Country\n",
        "2. Categorized data: Workclass, Education, Martial_Status, Occupation, Relationship, Race,\n",
        "Sex, Country"
      ],
      "metadata": {
        "id": "IW2Qu0ZJM62W"
      }
    },
    {
      "cell_type": "markdown",
      "metadata": {
        "id": "PEdL8h8LqUZV"
      },
      "source": [
        "### **<font color = blue> Step 2: Data exploring and preprocessing**"
      ]
    },
    {
      "cell_type": "markdown",
      "metadata": {
        "id": "vp6en7z5qUZc"
      },
      "source": [
        "I only included the parts that I adjusted the data. The other explorations are included in the report only."
      ]
    },
    {
      "cell_type": "markdown",
      "metadata": {
        "id": "IPTIUhM8qUZl"
      },
      "source": [
        "<font color = blue> 1. Correlation table --- delete *ID* and *fnlgwt*</font>  \n",
        "\n",
        "First of all, I'd like to check the correlation table to see the correlation within features and\n",
        "also the relationship with target."
      ]
    },
    {
      "cell_type": "code",
      "execution_count": null,
      "metadata": {
        "id": "pK8p-b-mqUZl",
        "outputId": "1ddd7aed-5c1a-48ae-8e08-fe2cabc4df50",
        "colab": {
          "base_uri": "https://localhost:8080/",
          "height": 112
        }
      },
      "outputs": [
        {
          "output_type": "execute_result",
          "data": {
            "text/plain": [
              "   ID  Age Workclass  fnlwgt      Education  Education_Num  \\\n",
              "0   2   38   Private   89814        HS-grad              9   \n",
              "1   5   18       NaN  103497   Some-college             10   \n",
              "\n",
              "        Martial_Status        Occupation Relationship    Race      Sex  \\\n",
              "0   Married-civ-spouse   Farming-fishing      Husband   White     Male   \n",
              "1        Never-married               NaN    Own-child   White   Female   \n",
              "\n",
              "   Capital_Gain  Capital_Loss  Hours_per_week         Country  Target  \n",
              "0             0             0              50   United-States       0  \n",
              "1             0             0              30   United-States       0  "
            ],
            "text/html": [
              "\n",
              "  <div id=\"df-f60f3169-1b86-4c5f-8543-2350c758eeea\" class=\"colab-df-container\">\n",
              "    <div>\n",
              "<style scoped>\n",
              "    .dataframe tbody tr th:only-of-type {\n",
              "        vertical-align: middle;\n",
              "    }\n",
              "\n",
              "    .dataframe tbody tr th {\n",
              "        vertical-align: top;\n",
              "    }\n",
              "\n",
              "    .dataframe thead th {\n",
              "        text-align: right;\n",
              "    }\n",
              "</style>\n",
              "<table border=\"1\" class=\"dataframe\">\n",
              "  <thead>\n",
              "    <tr style=\"text-align: right;\">\n",
              "      <th></th>\n",
              "      <th>ID</th>\n",
              "      <th>Age</th>\n",
              "      <th>Workclass</th>\n",
              "      <th>fnlwgt</th>\n",
              "      <th>Education</th>\n",
              "      <th>Education_Num</th>\n",
              "      <th>Martial_Status</th>\n",
              "      <th>Occupation</th>\n",
              "      <th>Relationship</th>\n",
              "      <th>Race</th>\n",
              "      <th>Sex</th>\n",
              "      <th>Capital_Gain</th>\n",
              "      <th>Capital_Loss</th>\n",
              "      <th>Hours_per_week</th>\n",
              "      <th>Country</th>\n",
              "      <th>Target</th>\n",
              "    </tr>\n",
              "  </thead>\n",
              "  <tbody>\n",
              "    <tr>\n",
              "      <th>0</th>\n",
              "      <td>2</td>\n",
              "      <td>38</td>\n",
              "      <td>Private</td>\n",
              "      <td>89814</td>\n",
              "      <td>HS-grad</td>\n",
              "      <td>9</td>\n",
              "      <td>Married-civ-spouse</td>\n",
              "      <td>Farming-fishing</td>\n",
              "      <td>Husband</td>\n",
              "      <td>White</td>\n",
              "      <td>Male</td>\n",
              "      <td>0</td>\n",
              "      <td>0</td>\n",
              "      <td>50</td>\n",
              "      <td>United-States</td>\n",
              "      <td>0</td>\n",
              "    </tr>\n",
              "    <tr>\n",
              "      <th>1</th>\n",
              "      <td>5</td>\n",
              "      <td>18</td>\n",
              "      <td>NaN</td>\n",
              "      <td>103497</td>\n",
              "      <td>Some-college</td>\n",
              "      <td>10</td>\n",
              "      <td>Never-married</td>\n",
              "      <td>NaN</td>\n",
              "      <td>Own-child</td>\n",
              "      <td>White</td>\n",
              "      <td>Female</td>\n",
              "      <td>0</td>\n",
              "      <td>0</td>\n",
              "      <td>30</td>\n",
              "      <td>United-States</td>\n",
              "      <td>0</td>\n",
              "    </tr>\n",
              "  </tbody>\n",
              "</table>\n",
              "</div>\n",
              "    <div class=\"colab-df-buttons\">\n",
              "\n",
              "  <div class=\"colab-df-container\">\n",
              "    <button class=\"colab-df-convert\" onclick=\"convertToInteractive('df-f60f3169-1b86-4c5f-8543-2350c758eeea')\"\n",
              "            title=\"Convert this dataframe to an interactive table.\"\n",
              "            style=\"display:none;\">\n",
              "\n",
              "  <svg xmlns=\"http://www.w3.org/2000/svg\" height=\"24px\" viewBox=\"0 -960 960 960\">\n",
              "    <path d=\"M120-120v-720h720v720H120Zm60-500h600v-160H180v160Zm220 220h160v-160H400v160Zm0 220h160v-160H400v160ZM180-400h160v-160H180v160Zm440 0h160v-160H620v160ZM180-180h160v-160H180v160Zm440 0h160v-160H620v160Z\"/>\n",
              "  </svg>\n",
              "    </button>\n",
              "\n",
              "  <style>\n",
              "    .colab-df-container {\n",
              "      display:flex;\n",
              "      gap: 12px;\n",
              "    }\n",
              "\n",
              "    .colab-df-convert {\n",
              "      background-color: #E8F0FE;\n",
              "      border: none;\n",
              "      border-radius: 50%;\n",
              "      cursor: pointer;\n",
              "      display: none;\n",
              "      fill: #1967D2;\n",
              "      height: 32px;\n",
              "      padding: 0 0 0 0;\n",
              "      width: 32px;\n",
              "    }\n",
              "\n",
              "    .colab-df-convert:hover {\n",
              "      background-color: #E2EBFA;\n",
              "      box-shadow: 0px 1px 2px rgba(60, 64, 67, 0.3), 0px 1px 3px 1px rgba(60, 64, 67, 0.15);\n",
              "      fill: #174EA6;\n",
              "    }\n",
              "\n",
              "    .colab-df-buttons div {\n",
              "      margin-bottom: 4px;\n",
              "    }\n",
              "\n",
              "    [theme=dark] .colab-df-convert {\n",
              "      background-color: #3B4455;\n",
              "      fill: #D2E3FC;\n",
              "    }\n",
              "\n",
              "    [theme=dark] .colab-df-convert:hover {\n",
              "      background-color: #434B5C;\n",
              "      box-shadow: 0px 1px 3px 1px rgba(0, 0, 0, 0.15);\n",
              "      filter: drop-shadow(0px 1px 2px rgba(0, 0, 0, 0.3));\n",
              "      fill: #FFFFFF;\n",
              "    }\n",
              "  </style>\n",
              "\n",
              "    <script>\n",
              "      const buttonEl =\n",
              "        document.querySelector('#df-f60f3169-1b86-4c5f-8543-2350c758eeea button.colab-df-convert');\n",
              "      buttonEl.style.display =\n",
              "        google.colab.kernel.accessAllowed ? 'block' : 'none';\n",
              "\n",
              "      async function convertToInteractive(key) {\n",
              "        const element = document.querySelector('#df-f60f3169-1b86-4c5f-8543-2350c758eeea');\n",
              "        const dataTable =\n",
              "          await google.colab.kernel.invokeFunction('convertToInteractive',\n",
              "                                                    [key], {});\n",
              "        if (!dataTable) return;\n",
              "\n",
              "        const docLinkHtml = 'Like what you see? Visit the ' +\n",
              "          '<a target=\"_blank\" href=https://colab.research.google.com/notebooks/data_table.ipynb>data table notebook</a>'\n",
              "          + ' to learn more about interactive tables.';\n",
              "        element.innerHTML = '';\n",
              "        dataTable['output_type'] = 'display_data';\n",
              "        await google.colab.output.renderOutput(dataTable, element);\n",
              "        const docLink = document.createElement('div');\n",
              "        docLink.innerHTML = docLinkHtml;\n",
              "        element.appendChild(docLink);\n",
              "      }\n",
              "    </script>\n",
              "  </div>\n",
              "\n",
              "\n",
              "<div id=\"df-9cb38701-f584-47c5-b8c9-4854eed72d92\">\n",
              "  <button class=\"colab-df-quickchart\" onclick=\"quickchart('df-9cb38701-f584-47c5-b8c9-4854eed72d92')\"\n",
              "            title=\"Suggest charts\"\n",
              "            style=\"display:none;\">\n",
              "\n",
              "<svg xmlns=\"http://www.w3.org/2000/svg\" height=\"24px\"viewBox=\"0 0 24 24\"\n",
              "     width=\"24px\">\n",
              "    <g>\n",
              "        <path d=\"M19 3H5c-1.1 0-2 .9-2 2v14c0 1.1.9 2 2 2h14c1.1 0 2-.9 2-2V5c0-1.1-.9-2-2-2zM9 17H7v-7h2v7zm4 0h-2V7h2v10zm4 0h-2v-4h2v4z\"/>\n",
              "    </g>\n",
              "</svg>\n",
              "  </button>\n",
              "\n",
              "<style>\n",
              "  .colab-df-quickchart {\n",
              "      --bg-color: #E8F0FE;\n",
              "      --fill-color: #1967D2;\n",
              "      --hover-bg-color: #E2EBFA;\n",
              "      --hover-fill-color: #174EA6;\n",
              "      --disabled-fill-color: #AAA;\n",
              "      --disabled-bg-color: #DDD;\n",
              "  }\n",
              "\n",
              "  [theme=dark] .colab-df-quickchart {\n",
              "      --bg-color: #3B4455;\n",
              "      --fill-color: #D2E3FC;\n",
              "      --hover-bg-color: #434B5C;\n",
              "      --hover-fill-color: #FFFFFF;\n",
              "      --disabled-bg-color: #3B4455;\n",
              "      --disabled-fill-color: #666;\n",
              "  }\n",
              "\n",
              "  .colab-df-quickchart {\n",
              "    background-color: var(--bg-color);\n",
              "    border: none;\n",
              "    border-radius: 50%;\n",
              "    cursor: pointer;\n",
              "    display: none;\n",
              "    fill: var(--fill-color);\n",
              "    height: 32px;\n",
              "    padding: 0;\n",
              "    width: 32px;\n",
              "  }\n",
              "\n",
              "  .colab-df-quickchart:hover {\n",
              "    background-color: var(--hover-bg-color);\n",
              "    box-shadow: 0 1px 2px rgba(60, 64, 67, 0.3), 0 1px 3px 1px rgba(60, 64, 67, 0.15);\n",
              "    fill: var(--button-hover-fill-color);\n",
              "  }\n",
              "\n",
              "  .colab-df-quickchart-complete:disabled,\n",
              "  .colab-df-quickchart-complete:disabled:hover {\n",
              "    background-color: var(--disabled-bg-color);\n",
              "    fill: var(--disabled-fill-color);\n",
              "    box-shadow: none;\n",
              "  }\n",
              "\n",
              "  .colab-df-spinner {\n",
              "    border: 2px solid var(--fill-color);\n",
              "    border-color: transparent;\n",
              "    border-bottom-color: var(--fill-color);\n",
              "    animation:\n",
              "      spin 1s steps(1) infinite;\n",
              "  }\n",
              "\n",
              "  @keyframes spin {\n",
              "    0% {\n",
              "      border-color: transparent;\n",
              "      border-bottom-color: var(--fill-color);\n",
              "      border-left-color: var(--fill-color);\n",
              "    }\n",
              "    20% {\n",
              "      border-color: transparent;\n",
              "      border-left-color: var(--fill-color);\n",
              "      border-top-color: var(--fill-color);\n",
              "    }\n",
              "    30% {\n",
              "      border-color: transparent;\n",
              "      border-left-color: var(--fill-color);\n",
              "      border-top-color: var(--fill-color);\n",
              "      border-right-color: var(--fill-color);\n",
              "    }\n",
              "    40% {\n",
              "      border-color: transparent;\n",
              "      border-right-color: var(--fill-color);\n",
              "      border-top-color: var(--fill-color);\n",
              "    }\n",
              "    60% {\n",
              "      border-color: transparent;\n",
              "      border-right-color: var(--fill-color);\n",
              "    }\n",
              "    80% {\n",
              "      border-color: transparent;\n",
              "      border-right-color: var(--fill-color);\n",
              "      border-bottom-color: var(--fill-color);\n",
              "    }\n",
              "    90% {\n",
              "      border-color: transparent;\n",
              "      border-bottom-color: var(--fill-color);\n",
              "    }\n",
              "  }\n",
              "</style>\n",
              "\n",
              "  <script>\n",
              "    async function quickchart(key) {\n",
              "      const quickchartButtonEl =\n",
              "        document.querySelector('#' + key + ' button');\n",
              "      quickchartButtonEl.disabled = true;  // To prevent multiple clicks.\n",
              "      quickchartButtonEl.classList.add('colab-df-spinner');\n",
              "      try {\n",
              "        const charts = await google.colab.kernel.invokeFunction(\n",
              "            'suggestCharts', [key], {});\n",
              "      } catch (error) {\n",
              "        console.error('Error during call to suggestCharts:', error);\n",
              "      }\n",
              "      quickchartButtonEl.classList.remove('colab-df-spinner');\n",
              "      quickchartButtonEl.classList.add('colab-df-quickchart-complete');\n",
              "    }\n",
              "    (() => {\n",
              "      let quickchartButtonEl =\n",
              "        document.querySelector('#df-9cb38701-f584-47c5-b8c9-4854eed72d92 button');\n",
              "      quickchartButtonEl.style.display =\n",
              "        google.colab.kernel.accessAllowed ? 'block' : 'none';\n",
              "    })();\n",
              "  </script>\n",
              "</div>\n",
              "\n",
              "    </div>\n",
              "  </div>\n"
            ]
          },
          "metadata": {},
          "execution_count": 7
        }
      ],
      "source": [
        "# Combine x_train and y_train into train_data\n",
        "train_data = pd.concat([x_train, y_train], axis = 1)\n",
        "train_data.head(2)"
      ]
    },
    {
      "cell_type": "code",
      "source": [
        "# See the correlation table\n",
        "train_data.corr(method = 'pearson')"
      ],
      "metadata": {
        "colab": {
          "base_uri": "https://localhost:8080/",
          "height": 355
        },
        "id": "74sdm8kyNUDl",
        "outputId": "740cafb3-f963-488d-950e-e209971719c1"
      },
      "execution_count": null,
      "outputs": [
        {
          "output_type": "stream",
          "name": "stderr",
          "text": [
            "<ipython-input-8-52ae21fc708d>:2: FutureWarning: The default value of numeric_only in DataFrame.corr is deprecated. In a future version, it will default to False. Select only valid columns or specify the value of numeric_only to silence this warning.\n",
            "  train_data.corr(method = 'pearson')\n"
          ]
        },
        {
          "output_type": "execute_result",
          "data": {
            "text/plain": [
              "                      ID       Age    fnlwgt  Education_Num  Capital_Gain  \\\n",
              "ID              1.000000 -0.010074 -0.001478      -0.010577     -0.001629   \n",
              "Age            -0.010074  1.000000 -0.081941      -0.008544      0.067013   \n",
              "fnlwgt         -0.001478 -0.081941  1.000000      -0.050178     -0.007749   \n",
              "Education_Num  -0.010577 -0.008544 -0.050178       1.000000      0.093034   \n",
              "Capital_Gain   -0.001629  0.067013 -0.007749       0.093034      1.000000   \n",
              "Capital_Loss   -0.001193  0.052337 -0.011357       0.061480     -0.022272   \n",
              "Hours_per_week  0.000050  0.063897 -0.011707       0.117537      0.054600   \n",
              "Target          0.000871  0.168381 -0.010398       0.253277      0.234683   \n",
              "\n",
              "                Capital_Loss  Hours_per_week    Target  \n",
              "ID                 -0.001193        0.000050  0.000871  \n",
              "Age                 0.052337        0.063897  0.168381  \n",
              "fnlwgt             -0.011357       -0.011707 -0.010398  \n",
              "Education_Num       0.061480        0.117537  0.253277  \n",
              "Capital_Gain       -0.022272        0.054600  0.234683  \n",
              "Capital_Loss        1.000000        0.046495  0.129586  \n",
              "Hours_per_week      0.046495        1.000000  0.168797  \n",
              "Target              0.129586        0.168797  1.000000  "
            ],
            "text/html": [
              "\n",
              "  <div id=\"df-eb5440f0-059c-494e-8584-3bef461cd7a6\" class=\"colab-df-container\">\n",
              "    <div>\n",
              "<style scoped>\n",
              "    .dataframe tbody tr th:only-of-type {\n",
              "        vertical-align: middle;\n",
              "    }\n",
              "\n",
              "    .dataframe tbody tr th {\n",
              "        vertical-align: top;\n",
              "    }\n",
              "\n",
              "    .dataframe thead th {\n",
              "        text-align: right;\n",
              "    }\n",
              "</style>\n",
              "<table border=\"1\" class=\"dataframe\">\n",
              "  <thead>\n",
              "    <tr style=\"text-align: right;\">\n",
              "      <th></th>\n",
              "      <th>ID</th>\n",
              "      <th>Age</th>\n",
              "      <th>fnlwgt</th>\n",
              "      <th>Education_Num</th>\n",
              "      <th>Capital_Gain</th>\n",
              "      <th>Capital_Loss</th>\n",
              "      <th>Hours_per_week</th>\n",
              "      <th>Target</th>\n",
              "    </tr>\n",
              "  </thead>\n",
              "  <tbody>\n",
              "    <tr>\n",
              "      <th>ID</th>\n",
              "      <td>1.000000</td>\n",
              "      <td>-0.010074</td>\n",
              "      <td>-0.001478</td>\n",
              "      <td>-0.010577</td>\n",
              "      <td>-0.001629</td>\n",
              "      <td>-0.001193</td>\n",
              "      <td>0.000050</td>\n",
              "      <td>0.000871</td>\n",
              "    </tr>\n",
              "    <tr>\n",
              "      <th>Age</th>\n",
              "      <td>-0.010074</td>\n",
              "      <td>1.000000</td>\n",
              "      <td>-0.081941</td>\n",
              "      <td>-0.008544</td>\n",
              "      <td>0.067013</td>\n",
              "      <td>0.052337</td>\n",
              "      <td>0.063897</td>\n",
              "      <td>0.168381</td>\n",
              "    </tr>\n",
              "    <tr>\n",
              "      <th>fnlwgt</th>\n",
              "      <td>-0.001478</td>\n",
              "      <td>-0.081941</td>\n",
              "      <td>1.000000</td>\n",
              "      <td>-0.050178</td>\n",
              "      <td>-0.007749</td>\n",
              "      <td>-0.011357</td>\n",
              "      <td>-0.011707</td>\n",
              "      <td>-0.010398</td>\n",
              "    </tr>\n",
              "    <tr>\n",
              "      <th>Education_Num</th>\n",
              "      <td>-0.010577</td>\n",
              "      <td>-0.008544</td>\n",
              "      <td>-0.050178</td>\n",
              "      <td>1.000000</td>\n",
              "      <td>0.093034</td>\n",
              "      <td>0.061480</td>\n",
              "      <td>0.117537</td>\n",
              "      <td>0.253277</td>\n",
              "    </tr>\n",
              "    <tr>\n",
              "      <th>Capital_Gain</th>\n",
              "      <td>-0.001629</td>\n",
              "      <td>0.067013</td>\n",
              "      <td>-0.007749</td>\n",
              "      <td>0.093034</td>\n",
              "      <td>1.000000</td>\n",
              "      <td>-0.022272</td>\n",
              "      <td>0.054600</td>\n",
              "      <td>0.234683</td>\n",
              "    </tr>\n",
              "    <tr>\n",
              "      <th>Capital_Loss</th>\n",
              "      <td>-0.001193</td>\n",
              "      <td>0.052337</td>\n",
              "      <td>-0.011357</td>\n",
              "      <td>0.061480</td>\n",
              "      <td>-0.022272</td>\n",
              "      <td>1.000000</td>\n",
              "      <td>0.046495</td>\n",
              "      <td>0.129586</td>\n",
              "    </tr>\n",
              "    <tr>\n",
              "      <th>Hours_per_week</th>\n",
              "      <td>0.000050</td>\n",
              "      <td>0.063897</td>\n",
              "      <td>-0.011707</td>\n",
              "      <td>0.117537</td>\n",
              "      <td>0.054600</td>\n",
              "      <td>0.046495</td>\n",
              "      <td>1.000000</td>\n",
              "      <td>0.168797</td>\n",
              "    </tr>\n",
              "    <tr>\n",
              "      <th>Target</th>\n",
              "      <td>0.000871</td>\n",
              "      <td>0.168381</td>\n",
              "      <td>-0.010398</td>\n",
              "      <td>0.253277</td>\n",
              "      <td>0.234683</td>\n",
              "      <td>0.129586</td>\n",
              "      <td>0.168797</td>\n",
              "      <td>1.000000</td>\n",
              "    </tr>\n",
              "  </tbody>\n",
              "</table>\n",
              "</div>\n",
              "    <div class=\"colab-df-buttons\">\n",
              "\n",
              "  <div class=\"colab-df-container\">\n",
              "    <button class=\"colab-df-convert\" onclick=\"convertToInteractive('df-eb5440f0-059c-494e-8584-3bef461cd7a6')\"\n",
              "            title=\"Convert this dataframe to an interactive table.\"\n",
              "            style=\"display:none;\">\n",
              "\n",
              "  <svg xmlns=\"http://www.w3.org/2000/svg\" height=\"24px\" viewBox=\"0 -960 960 960\">\n",
              "    <path d=\"M120-120v-720h720v720H120Zm60-500h600v-160H180v160Zm220 220h160v-160H400v160Zm0 220h160v-160H400v160ZM180-400h160v-160H180v160Zm440 0h160v-160H620v160ZM180-180h160v-160H180v160Zm440 0h160v-160H620v160Z\"/>\n",
              "  </svg>\n",
              "    </button>\n",
              "\n",
              "  <style>\n",
              "    .colab-df-container {\n",
              "      display:flex;\n",
              "      gap: 12px;\n",
              "    }\n",
              "\n",
              "    .colab-df-convert {\n",
              "      background-color: #E8F0FE;\n",
              "      border: none;\n",
              "      border-radius: 50%;\n",
              "      cursor: pointer;\n",
              "      display: none;\n",
              "      fill: #1967D2;\n",
              "      height: 32px;\n",
              "      padding: 0 0 0 0;\n",
              "      width: 32px;\n",
              "    }\n",
              "\n",
              "    .colab-df-convert:hover {\n",
              "      background-color: #E2EBFA;\n",
              "      box-shadow: 0px 1px 2px rgba(60, 64, 67, 0.3), 0px 1px 3px 1px rgba(60, 64, 67, 0.15);\n",
              "      fill: #174EA6;\n",
              "    }\n",
              "\n",
              "    .colab-df-buttons div {\n",
              "      margin-bottom: 4px;\n",
              "    }\n",
              "\n",
              "    [theme=dark] .colab-df-convert {\n",
              "      background-color: #3B4455;\n",
              "      fill: #D2E3FC;\n",
              "    }\n",
              "\n",
              "    [theme=dark] .colab-df-convert:hover {\n",
              "      background-color: #434B5C;\n",
              "      box-shadow: 0px 1px 3px 1px rgba(0, 0, 0, 0.15);\n",
              "      filter: drop-shadow(0px 1px 2px rgba(0, 0, 0, 0.3));\n",
              "      fill: #FFFFFF;\n",
              "    }\n",
              "  </style>\n",
              "\n",
              "    <script>\n",
              "      const buttonEl =\n",
              "        document.querySelector('#df-eb5440f0-059c-494e-8584-3bef461cd7a6 button.colab-df-convert');\n",
              "      buttonEl.style.display =\n",
              "        google.colab.kernel.accessAllowed ? 'block' : 'none';\n",
              "\n",
              "      async function convertToInteractive(key) {\n",
              "        const element = document.querySelector('#df-eb5440f0-059c-494e-8584-3bef461cd7a6');\n",
              "        const dataTable =\n",
              "          await google.colab.kernel.invokeFunction('convertToInteractive',\n",
              "                                                    [key], {});\n",
              "        if (!dataTable) return;\n",
              "\n",
              "        const docLinkHtml = 'Like what you see? Visit the ' +\n",
              "          '<a target=\"_blank\" href=https://colab.research.google.com/notebooks/data_table.ipynb>data table notebook</a>'\n",
              "          + ' to learn more about interactive tables.';\n",
              "        element.innerHTML = '';\n",
              "        dataTable['output_type'] = 'display_data';\n",
              "        await google.colab.output.renderOutput(dataTable, element);\n",
              "        const docLink = document.createElement('div');\n",
              "        docLink.innerHTML = docLinkHtml;\n",
              "        element.appendChild(docLink);\n",
              "      }\n",
              "    </script>\n",
              "  </div>\n",
              "\n",
              "\n",
              "<div id=\"df-21fc3859-ace1-45b8-9903-a3ca530a33eb\">\n",
              "  <button class=\"colab-df-quickchart\" onclick=\"quickchart('df-21fc3859-ace1-45b8-9903-a3ca530a33eb')\"\n",
              "            title=\"Suggest charts\"\n",
              "            style=\"display:none;\">\n",
              "\n",
              "<svg xmlns=\"http://www.w3.org/2000/svg\" height=\"24px\"viewBox=\"0 0 24 24\"\n",
              "     width=\"24px\">\n",
              "    <g>\n",
              "        <path d=\"M19 3H5c-1.1 0-2 .9-2 2v14c0 1.1.9 2 2 2h14c1.1 0 2-.9 2-2V5c0-1.1-.9-2-2-2zM9 17H7v-7h2v7zm4 0h-2V7h2v10zm4 0h-2v-4h2v4z\"/>\n",
              "    </g>\n",
              "</svg>\n",
              "  </button>\n",
              "\n",
              "<style>\n",
              "  .colab-df-quickchart {\n",
              "      --bg-color: #E8F0FE;\n",
              "      --fill-color: #1967D2;\n",
              "      --hover-bg-color: #E2EBFA;\n",
              "      --hover-fill-color: #174EA6;\n",
              "      --disabled-fill-color: #AAA;\n",
              "      --disabled-bg-color: #DDD;\n",
              "  }\n",
              "\n",
              "  [theme=dark] .colab-df-quickchart {\n",
              "      --bg-color: #3B4455;\n",
              "      --fill-color: #D2E3FC;\n",
              "      --hover-bg-color: #434B5C;\n",
              "      --hover-fill-color: #FFFFFF;\n",
              "      --disabled-bg-color: #3B4455;\n",
              "      --disabled-fill-color: #666;\n",
              "  }\n",
              "\n",
              "  .colab-df-quickchart {\n",
              "    background-color: var(--bg-color);\n",
              "    border: none;\n",
              "    border-radius: 50%;\n",
              "    cursor: pointer;\n",
              "    display: none;\n",
              "    fill: var(--fill-color);\n",
              "    height: 32px;\n",
              "    padding: 0;\n",
              "    width: 32px;\n",
              "  }\n",
              "\n",
              "  .colab-df-quickchart:hover {\n",
              "    background-color: var(--hover-bg-color);\n",
              "    box-shadow: 0 1px 2px rgba(60, 64, 67, 0.3), 0 1px 3px 1px rgba(60, 64, 67, 0.15);\n",
              "    fill: var(--button-hover-fill-color);\n",
              "  }\n",
              "\n",
              "  .colab-df-quickchart-complete:disabled,\n",
              "  .colab-df-quickchart-complete:disabled:hover {\n",
              "    background-color: var(--disabled-bg-color);\n",
              "    fill: var(--disabled-fill-color);\n",
              "    box-shadow: none;\n",
              "  }\n",
              "\n",
              "  .colab-df-spinner {\n",
              "    border: 2px solid var(--fill-color);\n",
              "    border-color: transparent;\n",
              "    border-bottom-color: var(--fill-color);\n",
              "    animation:\n",
              "      spin 1s steps(1) infinite;\n",
              "  }\n",
              "\n",
              "  @keyframes spin {\n",
              "    0% {\n",
              "      border-color: transparent;\n",
              "      border-bottom-color: var(--fill-color);\n",
              "      border-left-color: var(--fill-color);\n",
              "    }\n",
              "    20% {\n",
              "      border-color: transparent;\n",
              "      border-left-color: var(--fill-color);\n",
              "      border-top-color: var(--fill-color);\n",
              "    }\n",
              "    30% {\n",
              "      border-color: transparent;\n",
              "      border-left-color: var(--fill-color);\n",
              "      border-top-color: var(--fill-color);\n",
              "      border-right-color: var(--fill-color);\n",
              "    }\n",
              "    40% {\n",
              "      border-color: transparent;\n",
              "      border-right-color: var(--fill-color);\n",
              "      border-top-color: var(--fill-color);\n",
              "    }\n",
              "    60% {\n",
              "      border-color: transparent;\n",
              "      border-right-color: var(--fill-color);\n",
              "    }\n",
              "    80% {\n",
              "      border-color: transparent;\n",
              "      border-right-color: var(--fill-color);\n",
              "      border-bottom-color: var(--fill-color);\n",
              "    }\n",
              "    90% {\n",
              "      border-color: transparent;\n",
              "      border-bottom-color: var(--fill-color);\n",
              "    }\n",
              "  }\n",
              "</style>\n",
              "\n",
              "  <script>\n",
              "    async function quickchart(key) {\n",
              "      const quickchartButtonEl =\n",
              "        document.querySelector('#' + key + ' button');\n",
              "      quickchartButtonEl.disabled = true;  // To prevent multiple clicks.\n",
              "      quickchartButtonEl.classList.add('colab-df-spinner');\n",
              "      try {\n",
              "        const charts = await google.colab.kernel.invokeFunction(\n",
              "            'suggestCharts', [key], {});\n",
              "      } catch (error) {\n",
              "        console.error('Error during call to suggestCharts:', error);\n",
              "      }\n",
              "      quickchartButtonEl.classList.remove('colab-df-spinner');\n",
              "      quickchartButtonEl.classList.add('colab-df-quickchart-complete');\n",
              "    }\n",
              "    (() => {\n",
              "      let quickchartButtonEl =\n",
              "        document.querySelector('#df-21fc3859-ace1-45b8-9903-a3ca530a33eb button');\n",
              "      quickchartButtonEl.style.display =\n",
              "        google.colab.kernel.accessAllowed ? 'block' : 'none';\n",
              "    })();\n",
              "  </script>\n",
              "</div>\n",
              "\n",
              "    </div>\n",
              "  </div>\n"
            ]
          },
          "metadata": {},
          "execution_count": 8
        }
      ]
    },
    {
      "cell_type": "markdown",
      "source": [
        "From above table, I found that within the numerical variables, there is no variable highly related to the other, so I didn't tackle with the colinearity problem here. Next, it's reasonable to\n",
        "remove ID since that's only the recognition for each data and shouldn't contribute to the result.\n",
        "Also, I'd like to remove fnlgwt as well deu to the extremely low correlation with the target. From\n",
        "this table, it also shows that Education_Num and Capital_gain have higher correlation with\n",
        "Target."
      ],
      "metadata": {
        "id": "wqrlZMiKNdHz"
      }
    },
    {
      "cell_type": "code",
      "execution_count": null,
      "metadata": {
        "id": "fcv9B-APqUZn",
        "colab": {
          "base_uri": "https://localhost:8080/",
          "height": 112
        },
        "outputId": "2ca50285-b80b-439f-e1ca-4dbfc7f5bfa2"
      },
      "outputs": [
        {
          "output_type": "execute_result",
          "data": {
            "text/plain": [
              "   Age Workclass      Education  Education_Num       Martial_Status  \\\n",
              "0   38   Private        HS-grad              9   Married-civ-spouse   \n",
              "1   18       NaN   Some-college             10        Never-married   \n",
              "\n",
              "         Occupation Relationship    Race      Sex  Capital_Gain  Capital_Loss  \\\n",
              "0   Farming-fishing      Husband   White     Male             0             0   \n",
              "1               NaN    Own-child   White   Female             0             0   \n",
              "\n",
              "   Hours_per_week         Country  \n",
              "0              50   United-States  \n",
              "1              30   United-States  "
            ],
            "text/html": [
              "\n",
              "  <div id=\"df-72beb366-5d67-4403-b6fb-7aa08cb26c75\" class=\"colab-df-container\">\n",
              "    <div>\n",
              "<style scoped>\n",
              "    .dataframe tbody tr th:only-of-type {\n",
              "        vertical-align: middle;\n",
              "    }\n",
              "\n",
              "    .dataframe tbody tr th {\n",
              "        vertical-align: top;\n",
              "    }\n",
              "\n",
              "    .dataframe thead th {\n",
              "        text-align: right;\n",
              "    }\n",
              "</style>\n",
              "<table border=\"1\" class=\"dataframe\">\n",
              "  <thead>\n",
              "    <tr style=\"text-align: right;\">\n",
              "      <th></th>\n",
              "      <th>Age</th>\n",
              "      <th>Workclass</th>\n",
              "      <th>Education</th>\n",
              "      <th>Education_Num</th>\n",
              "      <th>Martial_Status</th>\n",
              "      <th>Occupation</th>\n",
              "      <th>Relationship</th>\n",
              "      <th>Race</th>\n",
              "      <th>Sex</th>\n",
              "      <th>Capital_Gain</th>\n",
              "      <th>Capital_Loss</th>\n",
              "      <th>Hours_per_week</th>\n",
              "      <th>Country</th>\n",
              "    </tr>\n",
              "  </thead>\n",
              "  <tbody>\n",
              "    <tr>\n",
              "      <th>0</th>\n",
              "      <td>38</td>\n",
              "      <td>Private</td>\n",
              "      <td>HS-grad</td>\n",
              "      <td>9</td>\n",
              "      <td>Married-civ-spouse</td>\n",
              "      <td>Farming-fishing</td>\n",
              "      <td>Husband</td>\n",
              "      <td>White</td>\n",
              "      <td>Male</td>\n",
              "      <td>0</td>\n",
              "      <td>0</td>\n",
              "      <td>50</td>\n",
              "      <td>United-States</td>\n",
              "    </tr>\n",
              "    <tr>\n",
              "      <th>1</th>\n",
              "      <td>18</td>\n",
              "      <td>NaN</td>\n",
              "      <td>Some-college</td>\n",
              "      <td>10</td>\n",
              "      <td>Never-married</td>\n",
              "      <td>NaN</td>\n",
              "      <td>Own-child</td>\n",
              "      <td>White</td>\n",
              "      <td>Female</td>\n",
              "      <td>0</td>\n",
              "      <td>0</td>\n",
              "      <td>30</td>\n",
              "      <td>United-States</td>\n",
              "    </tr>\n",
              "  </tbody>\n",
              "</table>\n",
              "</div>\n",
              "    <div class=\"colab-df-buttons\">\n",
              "\n",
              "  <div class=\"colab-df-container\">\n",
              "    <button class=\"colab-df-convert\" onclick=\"convertToInteractive('df-72beb366-5d67-4403-b6fb-7aa08cb26c75')\"\n",
              "            title=\"Convert this dataframe to an interactive table.\"\n",
              "            style=\"display:none;\">\n",
              "\n",
              "  <svg xmlns=\"http://www.w3.org/2000/svg\" height=\"24px\" viewBox=\"0 -960 960 960\">\n",
              "    <path d=\"M120-120v-720h720v720H120Zm60-500h600v-160H180v160Zm220 220h160v-160H400v160Zm0 220h160v-160H400v160ZM180-400h160v-160H180v160Zm440 0h160v-160H620v160ZM180-180h160v-160H180v160Zm440 0h160v-160H620v160Z\"/>\n",
              "  </svg>\n",
              "    </button>\n",
              "\n",
              "  <style>\n",
              "    .colab-df-container {\n",
              "      display:flex;\n",
              "      gap: 12px;\n",
              "    }\n",
              "\n",
              "    .colab-df-convert {\n",
              "      background-color: #E8F0FE;\n",
              "      border: none;\n",
              "      border-radius: 50%;\n",
              "      cursor: pointer;\n",
              "      display: none;\n",
              "      fill: #1967D2;\n",
              "      height: 32px;\n",
              "      padding: 0 0 0 0;\n",
              "      width: 32px;\n",
              "    }\n",
              "\n",
              "    .colab-df-convert:hover {\n",
              "      background-color: #E2EBFA;\n",
              "      box-shadow: 0px 1px 2px rgba(60, 64, 67, 0.3), 0px 1px 3px 1px rgba(60, 64, 67, 0.15);\n",
              "      fill: #174EA6;\n",
              "    }\n",
              "\n",
              "    .colab-df-buttons div {\n",
              "      margin-bottom: 4px;\n",
              "    }\n",
              "\n",
              "    [theme=dark] .colab-df-convert {\n",
              "      background-color: #3B4455;\n",
              "      fill: #D2E3FC;\n",
              "    }\n",
              "\n",
              "    [theme=dark] .colab-df-convert:hover {\n",
              "      background-color: #434B5C;\n",
              "      box-shadow: 0px 1px 3px 1px rgba(0, 0, 0, 0.15);\n",
              "      filter: drop-shadow(0px 1px 2px rgba(0, 0, 0, 0.3));\n",
              "      fill: #FFFFFF;\n",
              "    }\n",
              "  </style>\n",
              "\n",
              "    <script>\n",
              "      const buttonEl =\n",
              "        document.querySelector('#df-72beb366-5d67-4403-b6fb-7aa08cb26c75 button.colab-df-convert');\n",
              "      buttonEl.style.display =\n",
              "        google.colab.kernel.accessAllowed ? 'block' : 'none';\n",
              "\n",
              "      async function convertToInteractive(key) {\n",
              "        const element = document.querySelector('#df-72beb366-5d67-4403-b6fb-7aa08cb26c75');\n",
              "        const dataTable =\n",
              "          await google.colab.kernel.invokeFunction('convertToInteractive',\n",
              "                                                    [key], {});\n",
              "        if (!dataTable) return;\n",
              "\n",
              "        const docLinkHtml = 'Like what you see? Visit the ' +\n",
              "          '<a target=\"_blank\" href=https://colab.research.google.com/notebooks/data_table.ipynb>data table notebook</a>'\n",
              "          + ' to learn more about interactive tables.';\n",
              "        element.innerHTML = '';\n",
              "        dataTable['output_type'] = 'display_data';\n",
              "        await google.colab.output.renderOutput(dataTable, element);\n",
              "        const docLink = document.createElement('div');\n",
              "        docLink.innerHTML = docLinkHtml;\n",
              "        element.appendChild(docLink);\n",
              "      }\n",
              "    </script>\n",
              "  </div>\n",
              "\n",
              "\n",
              "<div id=\"df-be10a997-154c-4cf3-94ff-c7ea18be9a47\">\n",
              "  <button class=\"colab-df-quickchart\" onclick=\"quickchart('df-be10a997-154c-4cf3-94ff-c7ea18be9a47')\"\n",
              "            title=\"Suggest charts\"\n",
              "            style=\"display:none;\">\n",
              "\n",
              "<svg xmlns=\"http://www.w3.org/2000/svg\" height=\"24px\"viewBox=\"0 0 24 24\"\n",
              "     width=\"24px\">\n",
              "    <g>\n",
              "        <path d=\"M19 3H5c-1.1 0-2 .9-2 2v14c0 1.1.9 2 2 2h14c1.1 0 2-.9 2-2V5c0-1.1-.9-2-2-2zM9 17H7v-7h2v7zm4 0h-2V7h2v10zm4 0h-2v-4h2v4z\"/>\n",
              "    </g>\n",
              "</svg>\n",
              "  </button>\n",
              "\n",
              "<style>\n",
              "  .colab-df-quickchart {\n",
              "      --bg-color: #E8F0FE;\n",
              "      --fill-color: #1967D2;\n",
              "      --hover-bg-color: #E2EBFA;\n",
              "      --hover-fill-color: #174EA6;\n",
              "      --disabled-fill-color: #AAA;\n",
              "      --disabled-bg-color: #DDD;\n",
              "  }\n",
              "\n",
              "  [theme=dark] .colab-df-quickchart {\n",
              "      --bg-color: #3B4455;\n",
              "      --fill-color: #D2E3FC;\n",
              "      --hover-bg-color: #434B5C;\n",
              "      --hover-fill-color: #FFFFFF;\n",
              "      --disabled-bg-color: #3B4455;\n",
              "      --disabled-fill-color: #666;\n",
              "  }\n",
              "\n",
              "  .colab-df-quickchart {\n",
              "    background-color: var(--bg-color);\n",
              "    border: none;\n",
              "    border-radius: 50%;\n",
              "    cursor: pointer;\n",
              "    display: none;\n",
              "    fill: var(--fill-color);\n",
              "    height: 32px;\n",
              "    padding: 0;\n",
              "    width: 32px;\n",
              "  }\n",
              "\n",
              "  .colab-df-quickchart:hover {\n",
              "    background-color: var(--hover-bg-color);\n",
              "    box-shadow: 0 1px 2px rgba(60, 64, 67, 0.3), 0 1px 3px 1px rgba(60, 64, 67, 0.15);\n",
              "    fill: var(--button-hover-fill-color);\n",
              "  }\n",
              "\n",
              "  .colab-df-quickchart-complete:disabled,\n",
              "  .colab-df-quickchart-complete:disabled:hover {\n",
              "    background-color: var(--disabled-bg-color);\n",
              "    fill: var(--disabled-fill-color);\n",
              "    box-shadow: none;\n",
              "  }\n",
              "\n",
              "  .colab-df-spinner {\n",
              "    border: 2px solid var(--fill-color);\n",
              "    border-color: transparent;\n",
              "    border-bottom-color: var(--fill-color);\n",
              "    animation:\n",
              "      spin 1s steps(1) infinite;\n",
              "  }\n",
              "\n",
              "  @keyframes spin {\n",
              "    0% {\n",
              "      border-color: transparent;\n",
              "      border-bottom-color: var(--fill-color);\n",
              "      border-left-color: var(--fill-color);\n",
              "    }\n",
              "    20% {\n",
              "      border-color: transparent;\n",
              "      border-left-color: var(--fill-color);\n",
              "      border-top-color: var(--fill-color);\n",
              "    }\n",
              "    30% {\n",
              "      border-color: transparent;\n",
              "      border-left-color: var(--fill-color);\n",
              "      border-top-color: var(--fill-color);\n",
              "      border-right-color: var(--fill-color);\n",
              "    }\n",
              "    40% {\n",
              "      border-color: transparent;\n",
              "      border-right-color: var(--fill-color);\n",
              "      border-top-color: var(--fill-color);\n",
              "    }\n",
              "    60% {\n",
              "      border-color: transparent;\n",
              "      border-right-color: var(--fill-color);\n",
              "    }\n",
              "    80% {\n",
              "      border-color: transparent;\n",
              "      border-right-color: var(--fill-color);\n",
              "      border-bottom-color: var(--fill-color);\n",
              "    }\n",
              "    90% {\n",
              "      border-color: transparent;\n",
              "      border-bottom-color: var(--fill-color);\n",
              "    }\n",
              "  }\n",
              "</style>\n",
              "\n",
              "  <script>\n",
              "    async function quickchart(key) {\n",
              "      const quickchartButtonEl =\n",
              "        document.querySelector('#' + key + ' button');\n",
              "      quickchartButtonEl.disabled = true;  // To prevent multiple clicks.\n",
              "      quickchartButtonEl.classList.add('colab-df-spinner');\n",
              "      try {\n",
              "        const charts = await google.colab.kernel.invokeFunction(\n",
              "            'suggestCharts', [key], {});\n",
              "      } catch (error) {\n",
              "        console.error('Error during call to suggestCharts:', error);\n",
              "      }\n",
              "      quickchartButtonEl.classList.remove('colab-df-spinner');\n",
              "      quickchartButtonEl.classList.add('colab-df-quickchart-complete');\n",
              "    }\n",
              "    (() => {\n",
              "      let quickchartButtonEl =\n",
              "        document.querySelector('#df-be10a997-154c-4cf3-94ff-c7ea18be9a47 button');\n",
              "      quickchartButtonEl.style.display =\n",
              "        google.colab.kernel.accessAllowed ? 'block' : 'none';\n",
              "    })();\n",
              "  </script>\n",
              "</div>\n",
              "\n",
              "    </div>\n",
              "  </div>\n"
            ]
          },
          "metadata": {},
          "execution_count": 9
        }
      ],
      "source": [
        "# Drop ID and fnlwgt features due to extremely low correlation with target\n",
        "x_data = x_data.drop(\"ID\", axis = 1)\n",
        "x_data = x_data.drop(\"fnlwgt\", axis = 1)\n",
        "\n",
        "pd.set_option('display.max_info_columns',13)\n",
        "x_data.head(2)"
      ]
    },
    {
      "cell_type": "markdown",
      "source": [
        "<font color = blue> 2. *Age* --- no adjustment\n",
        "\n",
        "There are no missing values in Age. And I'd like to explore it by plotting the distribution."
      ],
      "metadata": {
        "id": "jcbNFzzERVlH"
      }
    },
    {
      "cell_type": "code",
      "source": [
        "# Calculate the number of people in each age and plot\n",
        "age_x = x_data['Age'].value_counts(dropna=False).sort_index().keys().to_list()\n",
        "age_cnt = x_data['Age'].value_counts(dropna=False).sort_index().to_list()\n",
        "plt.figure(figsize=(8,5))\n",
        "plt.bar(age_x, age_cnt, color='grey')\n",
        "plt.ylabel('Count')\n",
        "plt.xlabel('Age')\n",
        "plt.title('Data distribution of Age')\n",
        "plt.show()\n",
        "plt.close()"
      ],
      "metadata": {
        "colab": {
          "base_uri": "https://localhost:8080/",
          "height": 487
        },
        "id": "vYrnI0GERmAK",
        "outputId": "9cb4e882-4d4c-4b43-8bf9-f86eeb321e3d"
      },
      "execution_count": null,
      "outputs": [
        {
          "output_type": "display_data",
          "data": {
            "text/plain": [
              "<Figure size 800x500 with 1 Axes>"
            ],
            "image/png": "[encoded data removed]"
          },
          "metadata": {}
        }
      ]
    },
    {
      "cell_type": "markdown",
      "source": [
        "The bar chart shows that the distribution concentrated in 20-50 years old and there're only few samples beyond 80 years old. Because it's a continuous variable and has a not bad distribution, I decided not to adjust it."
      ],
      "metadata": {
        "id": "ls6L57_IRrso"
      }
    },
    {
      "cell_type": "markdown",
      "metadata": {
        "id": "6a5xu8-4qUZp"
      },
      "source": [
        "<font color = blue> 3. *Workclass* --- dealing with missing value and group the classes"
      ]
    },
    {
      "cell_type": "code",
      "execution_count": null,
      "metadata": {
        "id": "Afdm3qzyqUZp",
        "outputId": "ece878ec-638c-4cf4-a066-04586e3d93f5",
        "colab": {
          "base_uri": "https://localhost:8080/"
        }
      },
      "outputs": [
        {
          "output_type": "stream",
          "name": "stdout",
          "text": [
            " Private             33906\n",
            " Self-emp-not-inc     3862\n",
            " Local-gov            3136\n",
            "NaN                   2799\n",
            " State-gov            1981\n",
            " Self-emp-inc         1695\n",
            " Federal-gov          1432\n",
            " Without-pay            21\n",
            " Never-worked           10\n",
            "Name: Workclass, dtype: int64\n"
          ]
        }
      ],
      "source": [
        "# Observe the categories of Workclass\n",
        "print(x_data['Workclass'].value_counts(dropna=False))"
      ]
    },
    {
      "cell_type": "markdown",
      "source": [
        "It shows that there are 2799 missing values. Since the number of missing value is not too low, I'll group them into a new class called Others. Withour-pay and Never-worked only account for a small proportion to WorkClass, so I will group them into Others as well.\n",
        "\n",
        "Due to some similarity within those classes, I'll group them into three groups in total, which are Gov, Self, and Others."
      ],
      "metadata": {
        "id": "pjTAKXITR7Wz"
      }
    },
    {
      "cell_type": "code",
      "execution_count": null,
      "metadata": {
        "id": "0WTCOxwlqUZp"
      },
      "outputs": [],
      "source": [
        "# Fill nan with Others and group the data into Gov, Self, and Others\n",
        "\n",
        "x_data['Workclass'] = x_data['Workclass'].fillna(value = ' Others')\n",
        "Gov = [' Local-gov',' Federal-gov',' State-gov']\n",
        "Self = [' Self-emp-not-inc',' Self-emp-inc']\n",
        "Others = [' Without-pay',' Never-worked']\n",
        "x_data['Workclass'] = x_data['Workclass'].replace(Gov, ' Gov')\n",
        "x_data['Workclass'] = x_data['Workclass'].replace(Self, ' Self')\n",
        "x_data['Workclass'] = x_data['Workclass'].replace(Others, ' Others')"
      ]
    },
    {
      "cell_type": "code",
      "execution_count": null,
      "metadata": {
        "id": "AiyBf6vaqUZq",
        "outputId": "8391c9bd-3c95-49ac-9a3a-9507a3e7f8d4",
        "colab": {
          "base_uri": "https://localhost:8080/",
          "height": 472
        }
      },
      "outputs": [
        {
          "output_type": "display_data",
          "data": {
            "text/plain": [
              "<Figure size 640x480 with 1 Axes>"
            ],
            "image/png": "[encoded data removed]"
          },
          "metadata": {}
        }
      ],
      "source": [
        "# Plot the result after grouping\n",
        "workclass_x = x_data['Workclass'].value_counts().keys().to_list()\n",
        "workclass_num = x_data['Workclass'].value_counts().to_list()\n",
        "\n",
        "plt.bar( workclass_x, workclass_num, color = 'grey')\n",
        "plt.xlabel('Workclass')\n",
        "plt.ylabel('Count')\n",
        "plt.title('Distribution of Workclass')\n",
        "plt.show()\n",
        "plt.close()"
      ]
    },
    {
      "cell_type": "markdown",
      "metadata": {
        "id": "taKIiETFqUZr"
      },
      "source": [
        "<font color = blue>  4. *Education* & *Education_Num* & *Hours_per_week* --- delete Education to prevent colinearity and do feature engineering"
      ]
    },
    {
      "cell_type": "code",
      "execution_count": null,
      "metadata": {
        "id": "kcEw9FGCqUZr",
        "outputId": "ed7499b7-59e4-4b4e-c3bf-e5016f334d6f",
        "colab": {
          "base_uri": "https://localhost:8080/"
        }
      },
      "outputs": [
        {
          "output_type": "execute_result",
          "data": {
            "text/plain": [
              " HS-grad         15784\n",
              " Some-college    10878\n",
              " Bachelors        8025\n",
              " Masters          2657\n",
              " Assoc-voc        2061\n",
              " 11th             1812\n",
              " Assoc-acdm       1601\n",
              " 10th             1389\n",
              " 7th-8th           955\n",
              " Prof-school       834\n",
              " 9th               756\n",
              " 12th              657\n",
              " Doctorate         594\n",
              " 5th-6th           509\n",
              " 1st-4th           247\n",
              " Preschool          83\n",
              "Name: Education, dtype: int64"
            ]
          },
          "metadata": {},
          "execution_count": 14
        }
      ],
      "source": [
        "# Observe the categories of Education and the counts\n",
        "x_data['Education'].value_counts(dropna=False)"
      ]
    },
    {
      "cell_type": "code",
      "execution_count": null,
      "metadata": {
        "id": "U_wnePVwqUZs",
        "outputId": "b2d3ba67-5fa1-4191-cdbe-3f2a0fa0410f",
        "colab": {
          "base_uri": "https://localhost:8080/"
        }
      },
      "outputs": [
        {
          "output_type": "stream",
          "name": "stdout",
          "text": [
            "Doctorate:  16    594\n",
            "Name: Education_Num, dtype: int64\n",
            "Prof-school:  15    834\n",
            "Name: Education_Num, dtype: int64\n",
            "Masters:  14    2657\n",
            "Name: Education_Num, dtype: int64\n",
            "Bachelors:  13    8025\n",
            "Name: Education_Num, dtype: int64\n",
            "Assoc-acdm:  12    1601\n",
            "Name: Education_Num, dtype: int64\n",
            "Assoc-voc:  11    2061\n",
            "Name: Education_Num, dtype: int64\n",
            "Some-college:  10    10878\n",
            "Name: Education_Num, dtype: int64\n",
            "HS-grad:  9    15784\n",
            "Name: Education_Num, dtype: int64\n",
            "12th:  8    657\n",
            "Name: Education_Num, dtype: int64\n",
            "11th:  7    1812\n",
            "Name: Education_Num, dtype: int64\n",
            "10th:  6    1389\n",
            "Name: Education_Num, dtype: int64\n",
            "9th:  5    756\n",
            "Name: Education_Num, dtype: int64\n",
            "7th-8th:  4    955\n",
            "Name: Education_Num, dtype: int64\n",
            "5th-6th:  3    509\n",
            "Name: Education_Num, dtype: int64\n",
            "1st-4th:  2    247\n",
            "Name: Education_Num, dtype: int64\n",
            "Preschool:  1    83\n",
            "Name: Education_Num, dtype: int64\n"
          ]
        }
      ],
      "source": [
        "# Test if Education and Education_Num are 1 to 1 mapping\n",
        "print(\"Doctorate: \", x_data.loc[ x_data.Education == ' Doctorate']['Education_Num'].value_counts())\n",
        "print(\"Prof-school: \", x_data.loc[ x_data.Education == ' Prof-school']['Education_Num'].value_counts())\n",
        "print(\"Masters: \", x_data.loc[ x_data.Education == ' Masters']['Education_Num'].value_counts())\n",
        "print(\"Bachelors: \", x_data.loc[ x_data.Education == ' Bachelors']['Education_Num'].value_counts())\n",
        "print(\"Assoc-acdm: \", x_data.loc[ x_data.Education == ' Assoc-acdm']['Education_Num'].value_counts())\n",
        "print(\"Assoc-voc: \", x_data.loc[ x_data.Education == ' Assoc-voc']['Education_Num'].value_counts())\n",
        "print(\"Some-college: \", x_data.loc[ x_data.Education == ' Some-college']['Education_Num'].value_counts())\n",
        "print(\"HS-grad: \",x_data.loc[ x_data.Education == ' HS-grad']['Education_Num'].value_counts())\n",
        "print(\"12th: \", x_data.loc[ x_data.Education == ' 12th']['Education_Num'].value_counts())\n",
        "print(\"11th: \", x_data.loc[ x_data.Education == ' 11th']['Education_Num'].value_counts())\n",
        "print(\"10th: \", x_data.loc[ x_data.Education == ' 10th']['Education_Num'].value_counts())\n",
        "print(\"9th: \", x_data.loc[ x_data.Education == ' 9th']['Education_Num'].value_counts())\n",
        "print(\"7th-8th: \", x_data.loc[ x_data.Education == ' 7th-8th']['Education_Num'].value_counts())\n",
        "print(\"5th-6th: \", x_data.loc[ x_data.Education == ' 5th-6th']['Education_Num'].value_counts())\n",
        "print(\"1st-4th: \", x_data.loc[ x_data.Education == ' 1st-4th']['Education_Num'].value_counts())\n",
        "print(\"Preschool: \", x_data.loc[ x_data.Education == ' Preschool']['Education_Num'].value_counts())"
      ]
    },
    {
      "cell_type": "markdown",
      "source": [
        "From the above, it is known that Education and Education_Num is 1 to 1 mapping. Therefore, I only need one of them as feature and I decided to delete Education_Num. (Besides, by observation, it is noticeable that the higher number of Education_Num implies higher\n",
        "education level.)"
      ],
      "metadata": {
        "id": "mwxnhQ1zShGq"
      }
    },
    {
      "cell_type": "code",
      "execution_count": null,
      "metadata": {
        "id": "EM97dF12qUZt"
      },
      "outputs": [],
      "source": [
        "# Delete Education column from data set because they are 1 to 1 mapping\n",
        "x_data = x_data.drop(\"Education\", axis = 1)"
      ]
    },
    {
      "cell_type": "markdown",
      "metadata": {
        "id": "MsTowF2_qUZv"
      },
      "source": [
        "From the correlation table, I found that Education_Num and Hours_per_week have higher correlation with Target.   \n",
        "    Hence, I'd like to add a cross-multiplying terms as Edu*Hr."
      ]
    },
    {
      "cell_type": "code",
      "execution_count": null,
      "metadata": {
        "id": "9AE7IT2NqUZw",
        "outputId": "3325217e-7d54-4b2d-c4c2-bdfec14e200d",
        "colab": {
          "base_uri": "https://localhost:8080/",
          "height": 206
        }
      },
      "outputs": [
        {
          "output_type": "execute_result",
          "data": {
            "text/plain": [
              "   Age Workclass  Education_Num       Martial_Status        Occupation  \\\n",
              "0   38   Private              9   Married-civ-spouse   Farming-fishing   \n",
              "1   18    Others             10        Never-married               NaN   \n",
              "2   34   Private              6        Never-married     Other-service   \n",
              "3   29    Others              9        Never-married               NaN   \n",
              "4   55   Private              4   Married-civ-spouse      Craft-repair   \n",
              "\n",
              "     Relationship    Race      Sex  Capital_Gain  Capital_Loss  \\\n",
              "0         Husband   White     Male             0             0   \n",
              "1       Own-child   White   Female             0             0   \n",
              "2   Not-in-family   White     Male             0             0   \n",
              "3       Unmarried   Black     Male             0             0   \n",
              "4         Husband   White     Male             0             0   \n",
              "\n",
              "   Hours_per_week         Country  Edu*Hr  \n",
              "0              50   United-States     450  \n",
              "1              30   United-States     300  \n",
              "2              30   United-States     180  \n",
              "3              40   United-States     360  \n",
              "4              10   United-States      40  "
            ],
            "text/html": [
              "\n",
              "  <div id=\"df-085d9beb-c75e-454d-9e2a-f4bab2f431ad\" class=\"colab-df-container\">\n",
              "    <div>\n",
              "<style scoped>\n",
              "    .dataframe tbody tr th:only-of-type {\n",
              "        vertical-align: middle;\n",
              "    }\n",
              "\n",
              "    .dataframe tbody tr th {\n",
              "        vertical-align: top;\n",
              "    }\n",
              "\n",
              "    .dataframe thead th {\n",
              "        text-align: right;\n",
              "    }\n",
              "</style>\n",
              "<table border=\"1\" class=\"dataframe\">\n",
              "  <thead>\n",
              "    <tr style=\"text-align: right;\">\n",
              "      <th></th>\n",
              "      <th>Age</th>\n",
              "      <th>Workclass</th>\n",
              "      <th>Education_Num</th>\n",
              "      <th>Martial_Status</th>\n",
              "      <th>Occupation</th>\n",
              "      <th>Relationship</th>\n",
              "      <th>Race</th>\n",
              "      <th>Sex</th>\n",
              "      <th>Capital_Gain</th>\n",
              "      <th>Capital_Loss</th>\n",
              "      <th>Hours_per_week</th>\n",
              "      <th>Country</th>\n",
              "      <th>Edu*Hr</th>\n",
              "    </tr>\n",
              "  </thead>\n",
              "  <tbody>\n",
              "    <tr>\n",
              "      <th>0</th>\n",
              "      <td>38</td>\n",
              "      <td>Private</td>\n",
              "      <td>9</td>\n",
              "      <td>Married-civ-spouse</td>\n",
              "      <td>Farming-fishing</td>\n",
              "      <td>Husband</td>\n",
              "      <td>White</td>\n",
              "      <td>Male</td>\n",
              "      <td>0</td>\n",
              "      <td>0</td>\n",
              "      <td>50</td>\n",
              "      <td>United-States</td>\n",
              "      <td>450</td>\n",
              "    </tr>\n",
              "    <tr>\n",
              "      <th>1</th>\n",
              "      <td>18</td>\n",
              "      <td>Others</td>\n",
              "      <td>10</td>\n",
              "      <td>Never-married</td>\n",
              "      <td>NaN</td>\n",
              "      <td>Own-child</td>\n",
              "      <td>White</td>\n",
              "      <td>Female</td>\n",
              "      <td>0</td>\n",
              "      <td>0</td>\n",
              "      <td>30</td>\n",
              "      <td>United-States</td>\n",
              "      <td>300</td>\n",
              "    </tr>\n",
              "    <tr>\n",
              "      <th>2</th>\n",
              "      <td>34</td>\n",
              "      <td>Private</td>\n",
              "      <td>6</td>\n",
              "      <td>Never-married</td>\n",
              "      <td>Other-service</td>\n",
              "      <td>Not-in-family</td>\n",
              "      <td>White</td>\n",
              "      <td>Male</td>\n",
              "      <td>0</td>\n",
              "      <td>0</td>\n",
              "      <td>30</td>\n",
              "      <td>United-States</td>\n",
              "      <td>180</td>\n",
              "    </tr>\n",
              "    <tr>\n",
              "      <th>3</th>\n",
              "      <td>29</td>\n",
              "      <td>Others</td>\n",
              "      <td>9</td>\n",
              "      <td>Never-married</td>\n",
              "      <td>NaN</td>\n",
              "      <td>Unmarried</td>\n",
              "      <td>Black</td>\n",
              "      <td>Male</td>\n",
              "      <td>0</td>\n",
              "      <td>0</td>\n",
              "      <td>40</td>\n",
              "      <td>United-States</td>\n",
              "      <td>360</td>\n",
              "    </tr>\n",
              "    <tr>\n",
              "      <th>4</th>\n",
              "      <td>55</td>\n",
              "      <td>Private</td>\n",
              "      <td>4</td>\n",
              "      <td>Married-civ-spouse</td>\n",
              "      <td>Craft-repair</td>\n",
              "      <td>Husband</td>\n",
              "      <td>White</td>\n",
              "      <td>Male</td>\n",
              "      <td>0</td>\n",
              "      <td>0</td>\n",
              "      <td>10</td>\n",
              "      <td>United-States</td>\n",
              "      <td>40</td>\n",
              "    </tr>\n",
              "  </tbody>\n",
              "</table>\n",
              "</div>\n",
              "    <div class=\"colab-df-buttons\">\n",
              "\n",
              "  <div class=\"colab-df-container\">\n",
              "    <button class=\"colab-df-convert\" onclick=\"convertToInteractive('df-085d9beb-c75e-454d-9e2a-f4bab2f431ad')\"\n",
              "            title=\"Convert this dataframe to an interactive table.\"\n",
              "            style=\"display:none;\">\n",
              "\n",
              "  <svg xmlns=\"http://www.w3.org/2000/svg\" height=\"24px\" viewBox=\"0 -960 960 960\">\n",
              "    <path d=\"M120-120v-720h720v720H120Zm60-500h600v-160H180v160Zm220 220h160v-160H400v160Zm0 220h160v-160H400v160ZM180-400h160v-160H180v160Zm440 0h160v-160H620v160ZM180-180h160v-160H180v160Zm440 0h160v-160H620v160Z\"/>\n",
              "  </svg>\n",
              "    </button>\n",
              "\n",
              "  <style>\n",
              "    .colab-df-container {\n",
              "      display:flex;\n",
              "      gap: 12px;\n",
              "    }\n",
              "\n",
              "    .colab-df-convert {\n",
              "      background-color: #E8F0FE;\n",
              "      border: none;\n",
              "      border-radius: 50%;\n",
              "      cursor: pointer;\n",
              "      display: none;\n",
              "      fill: #1967D2;\n",
              "      height: 32px;\n",
              "      padding: 0 0 0 0;\n",
              "      width: 32px;\n",
              "    }\n",
              "\n",
              "    .colab-df-convert:hover {\n",
              "      background-color: #E2EBFA;\n",
              "      box-shadow: 0px 1px 2px rgba(60, 64, 67, 0.3), 0px 1px 3px 1px rgba(60, 64, 67, 0.15);\n",
              "      fill: #174EA6;\n",
              "    }\n",
              "\n",
              "    .colab-df-buttons div {\n",
              "      margin-bottom: 4px;\n",
              "    }\n",
              "\n",
              "    [theme=dark] .colab-df-convert {\n",
              "      background-color: #3B4455;\n",
              "      fill: #D2E3FC;\n",
              "    }\n",
              "\n",
              "    [theme=dark] .colab-df-convert:hover {\n",
              "      background-color: #434B5C;\n",
              "      box-shadow: 0px 1px 3px 1px rgba(0, 0, 0, 0.15);\n",
              "      filter: drop-shadow(0px 1px 2px rgba(0, 0, 0, 0.3));\n",
              "      fill: #FFFFFF;\n",
              "    }\n",
              "  </style>\n",
              "\n",
              "    <script>\n",
              "      const buttonEl =\n",
              "        document.querySelector('#df-085d9beb-c75e-454d-9e2a-f4bab2f431ad button.colab-df-convert');\n",
              "      buttonEl.style.display =\n",
              "        google.colab.kernel.accessAllowed ? 'block' : 'none';\n",
              "\n",
              "      async function convertToInteractive(key) {\n",
              "        const element = document.querySelector('#df-085d9beb-c75e-454d-9e2a-f4bab2f431ad');\n",
              "        const dataTable =\n",
              "          await google.colab.kernel.invokeFunction('convertToInteractive',\n",
              "                                                    [key], {});\n",
              "        if (!dataTable) return;\n",
              "\n",
              "        const docLinkHtml = 'Like what you see? Visit the ' +\n",
              "          '<a target=\"_blank\" href=https://colab.research.google.com/notebooks/data_table.ipynb>data table notebook</a>'\n",
              "          + ' to learn more about interactive tables.';\n",
              "        element.innerHTML = '';\n",
              "        dataTable['output_type'] = 'display_data';\n",
              "        await google.colab.output.renderOutput(dataTable, element);\n",
              "        const docLink = document.createElement('div');\n",
              "        docLink.innerHTML = docLinkHtml;\n",
              "        element.appendChild(docLink);\n",
              "      }\n",
              "    </script>\n",
              "  </div>\n",
              "\n",
              "\n",
              "<div id=\"df-1a95a462-2329-4fe7-b243-855746c788bb\">\n",
              "  <button class=\"colab-df-quickchart\" onclick=\"quickchart('df-1a95a462-2329-4fe7-b243-855746c788bb')\"\n",
              "            title=\"Suggest charts\"\n",
              "            style=\"display:none;\">\n",
              "\n",
              "<svg xmlns=\"http://www.w3.org/2000/svg\" height=\"24px\"viewBox=\"0 0 24 24\"\n",
              "     width=\"24px\">\n",
              "    <g>\n",
              "        <path d=\"M19 3H5c-1.1 0-2 .9-2 2v14c0 1.1.9 2 2 2h14c1.1 0 2-.9 2-2V5c0-1.1-.9-2-2-2zM9 17H7v-7h2v7zm4 0h-2V7h2v10zm4 0h-2v-4h2v4z\"/>\n",
              "    </g>\n",
              "</svg>\n",
              "  </button>\n",
              "\n",
              "<style>\n",
              "  .colab-df-quickchart {\n",
              "      --bg-color: #E8F0FE;\n",
              "      --fill-color: #1967D2;\n",
              "      --hover-bg-color: #E2EBFA;\n",
              "      --hover-fill-color: #174EA6;\n",
              "      --disabled-fill-color: #AAA;\n",
              "      --disabled-bg-color: #DDD;\n",
              "  }\n",
              "\n",
              "  [theme=dark] .colab-df-quickchart {\n",
              "      --bg-color: #3B4455;\n",
              "      --fill-color: #D2E3FC;\n",
              "      --hover-bg-color: #434B5C;\n",
              "      --hover-fill-color: #FFFFFF;\n",
              "      --disabled-bg-color: #3B4455;\n",
              "      --disabled-fill-color: #666;\n",
              "  }\n",
              "\n",
              "  .colab-df-quickchart {\n",
              "    background-color: var(--bg-color);\n",
              "    border: none;\n",
              "    border-radius: 50%;\n",
              "    cursor: pointer;\n",
              "    display: none;\n",
              "    fill: var(--fill-color);\n",
              "    height: 32px;\n",
              "    padding: 0;\n",
              "    width: 32px;\n",
              "  }\n",
              "\n",
              "  .colab-df-quickchart:hover {\n",
              "    background-color: var(--hover-bg-color);\n",
              "    box-shadow: 0 1px 2px rgba(60, 64, 67, 0.3), 0 1px 3px 1px rgba(60, 64, 67, 0.15);\n",
              "    fill: var(--button-hover-fill-color);\n",
              "  }\n",
              "\n",
              "  .colab-df-quickchart-complete:disabled,\n",
              "  .colab-df-quickchart-complete:disabled:hover {\n",
              "    background-color: var(--disabled-bg-color);\n",
              "    fill: var(--disabled-fill-color);\n",
              "    box-shadow: none;\n",
              "  }\n",
              "\n",
              "  .colab-df-spinner {\n",
              "    border: 2px solid var(--fill-color);\n",
              "    border-color: transparent;\n",
              "    border-bottom-color: var(--fill-color);\n",
              "    animation:\n",
              "      spin 1s steps(1) infinite;\n",
              "  }\n",
              "\n",
              "  @keyframes spin {\n",
              "    0% {\n",
              "      border-color: transparent;\n",
              "      border-bottom-color: var(--fill-color);\n",
              "      border-left-color: var(--fill-color);\n",
              "    }\n",
              "    20% {\n",
              "      border-color: transparent;\n",
              "      border-left-color: var(--fill-color);\n",
              "      border-top-color: var(--fill-color);\n",
              "    }\n",
              "    30% {\n",
              "      border-color: transparent;\n",
              "      border-left-color: var(--fill-color);\n",
              "      border-top-color: var(--fill-color);\n",
              "      border-right-color: var(--fill-color);\n",
              "    }\n",
              "    40% {\n",
              "      border-color: transparent;\n",
              "      border-right-color: var(--fill-color);\n",
              "      border-top-color: var(--fill-color);\n",
              "    }\n",
              "    60% {\n",
              "      border-color: transparent;\n",
              "      border-right-color: var(--fill-color);\n",
              "    }\n",
              "    80% {\n",
              "      border-color: transparent;\n",
              "      border-right-color: var(--fill-color);\n",
              "      border-bottom-color: var(--fill-color);\n",
              "    }\n",
              "    90% {\n",
              "      border-color: transparent;\n",
              "      border-bottom-color: var(--fill-color);\n",
              "    }\n",
              "  }\n",
              "</style>\n",
              "\n",
              "  <script>\n",
              "    async function quickchart(key) {\n",
              "      const quickchartButtonEl =\n",
              "        document.querySelector('#' + key + ' button');\n",
              "      quickchartButtonEl.disabled = true;  // To prevent multiple clicks.\n",
              "      quickchartButtonEl.classList.add('colab-df-spinner');\n",
              "      try {\n",
              "        const charts = await google.colab.kernel.invokeFunction(\n",
              "            'suggestCharts', [key], {});\n",
              "      } catch (error) {\n",
              "        console.error('Error during call to suggestCharts:', error);\n",
              "      }\n",
              "      quickchartButtonEl.classList.remove('colab-df-spinner');\n",
              "      quickchartButtonEl.classList.add('colab-df-quickchart-complete');\n",
              "    }\n",
              "    (() => {\n",
              "      let quickchartButtonEl =\n",
              "        document.querySelector('#df-1a95a462-2329-4fe7-b243-855746c788bb button');\n",
              "      quickchartButtonEl.style.display =\n",
              "        google.colab.kernel.accessAllowed ? 'block' : 'none';\n",
              "    })();\n",
              "  </script>\n",
              "</div>\n",
              "\n",
              "    </div>\n",
              "  </div>\n"
            ]
          },
          "metadata": {},
          "execution_count": 17
        }
      ],
      "source": [
        "x_data['Edu*Hr'] = x_data['Education_Num']*x_data['Hours_per_week']\n",
        "x_data.head()"
      ]
    },
    {
      "cell_type": "markdown",
      "source": [
        "After grouping, the gap between the numbers of each group became smaller."
      ],
      "metadata": {
        "id": "BPOZ_fmWS7Rj"
      }
    },
    {
      "cell_type": "markdown",
      "metadata": {
        "id": "iDlgkfBCqUZw"
      },
      "source": [
        "<font color = blue> 5. *Martial_Status* --- dealing with missing value and group the data"
      ]
    },
    {
      "cell_type": "code",
      "execution_count": null,
      "metadata": {
        "id": "1cPv_T1FqUZx",
        "outputId": "ea510c99-8f22-46d0-e74f-5f2c1ee75b18",
        "colab": {
          "base_uri": "https://localhost:8080/"
        }
      },
      "outputs": [
        {
          "output_type": "execute_result",
          "data": {
            "text/plain": [
              " Married-civ-spouse       22379\n",
              " Never-married            16117\n",
              " Divorced                  6633\n",
              " Separated                 1530\n",
              " Widowed                   1518\n",
              " Married-spouse-absent      628\n",
              " Married-AF-spouse           37\n",
              "Name: Martial_Status, dtype: int64"
            ]
          },
          "metadata": {},
          "execution_count": 18
        }
      ],
      "source": [
        "# Observe the categories of Martial_Status\n",
        "x_data['Martial_Status'].value_counts(dropna = False)"
      ]
    },
    {
      "cell_type": "markdown",
      "metadata": {
        "id": "oIkNdmU1qUZy"
      },
      "source": [
        "Since the number of *Married-spouse-absent* and *Married-AF-spouse* are relatively low, I group them with *Married-civ-spouse* into the group *Married*."
      ]
    },
    {
      "cell_type": "code",
      "source": [
        "# Group the data\n",
        "Married = [' Married-civ-spouse',' Married-spouse-absent',' Married-AF-spouse']\n",
        "x_data['Martial_Status'] = x_data['Martial_Status'].replace(Married, ' Married')"
      ],
      "metadata": {
        "id": "IxfhAaddTHY-"
      },
      "execution_count": null,
      "outputs": []
    },
    {
      "cell_type": "code",
      "source": [
        "x_data['Martial_Status'].value_counts(dropna = False)"
      ],
      "metadata": {
        "colab": {
          "base_uri": "https://localhost:8080/"
        },
        "id": "c43TwfE2TMTj",
        "outputId": "9f88922e-d184-4e49-fe93-975249c08eab"
      },
      "execution_count": null,
      "outputs": [
        {
          "output_type": "execute_result",
          "data": {
            "text/plain": [
              " Married          23044\n",
              " Never-married    16117\n",
              " Divorced          6633\n",
              " Separated         1530\n",
              " Widowed           1518\n",
              "Name: Martial_Status, dtype: int64"
            ]
          },
          "metadata": {},
          "execution_count": 20
        }
      ]
    },
    {
      "cell_type": "code",
      "execution_count": null,
      "metadata": {
        "id": "-0bNL0GBqUZy",
        "outputId": "9fe54851-126a-4da5-ac41-44c6b1b48cf2",
        "colab": {
          "base_uri": "https://localhost:8080/",
          "height": 410
        }
      },
      "outputs": [
        {
          "output_type": "display_data",
          "data": {
            "text/plain": [
              "<Figure size 1000x400 with 1 Axes>"
            ],
            "image/png": "[encoded data removed]"
          },
          "metadata": {}
        }
      ],
      "source": [
        "# Plot the result after grouping\n",
        "mar_x = x_data['Martial_Status'].value_counts(dropna = False).keys().to_list()\n",
        "mar_cnt = x_data['Martial_Status'].value_counts(dropna = False).to_list()\n",
        "\n",
        "plt.figure(figsize=(10,4))\n",
        "plt.bar( mar_x, mar_cnt, color = 'grey', width = 0.6)\n",
        "plt.xlabel('Martial_Status')\n",
        "plt.ylabel('Count')\n",
        "plt.title('Distribution of Martial_Status (after grouping)')\n",
        "plt.show()\n",
        "plt.close()"
      ]
    },
    {
      "cell_type": "markdown",
      "metadata": {
        "id": "Ye8b9MP5qUZ3"
      },
      "source": [
        "<font color = blue> 6. *Occupation* --- dealing with missing value"
      ]
    },
    {
      "cell_type": "code",
      "execution_count": null,
      "metadata": {
        "id": "4rMwbncsqUZ3",
        "outputId": "e3317132-2dc1-4afa-f0c2-605630486814",
        "colab": {
          "base_uri": "https://localhost:8080/"
        }
      },
      "outputs": [
        {
          "output_type": "stream",
          "name": "stdout",
          "text": [
            " Prof-specialty       6172\n",
            " Craft-repair         6112\n",
            " Exec-managerial      6086\n",
            " Adm-clerical         5611\n",
            " Sales                5504\n",
            " Other-service        4923\n",
            " Machine-op-inspct    3022\n",
            "NaN                   2809\n",
            " Transport-moving     2355\n",
            " Handlers-cleaners    2072\n",
            " Farming-fishing      1490\n",
            " Tech-support         1446\n",
            " Protective-serv       983\n",
            " Priv-house-serv       242\n",
            " Armed-Forces           15\n",
            "Name: Occupation, dtype: int64\n"
          ]
        }
      ],
      "source": [
        "# Observe the categories of Occupation\n",
        "print(x_data['Occupation'].value_counts(dropna=False))"
      ]
    },
    {
      "cell_type": "code",
      "execution_count": null,
      "metadata": {
        "id": "s6P-JfzoqUZ4"
      },
      "outputs": [],
      "source": [
        "# Fill missing values with Other-service\n",
        "x_data['Occupation'] = x_data['Occupation'].fillna( value = ' Other-service')"
      ]
    },
    {
      "cell_type": "markdown",
      "metadata": {
        "id": "_p77jbHAqUZ5"
      },
      "source": [
        "<font color = blue> 7. *Country* --- dealing with missing values and group the data"
      ]
    },
    {
      "cell_type": "code",
      "execution_count": null,
      "metadata": {
        "id": "VvIkWptUqUZ5",
        "outputId": "c5d20472-1133-4104-94ce-491336271d8a",
        "colab": {
          "base_uri": "https://localhost:8080/"
        }
      },
      "outputs": [
        {
          "output_type": "stream",
          "name": "stdout",
          "text": [
            " United-States                 43832\n",
            " Mexico                          951\n",
            "NaN                              857\n",
            " Philippines                     295\n",
            " Germany                         206\n",
            " Puerto-Rico                     184\n",
            " Canada                          182\n",
            " El-Salvador                     155\n",
            " India                           151\n",
            " Cuba                            138\n",
            " England                         127\n",
            " China                           122\n",
            " South                           115\n",
            " Jamaica                         106\n",
            " Italy                           105\n",
            " Dominican-Republic              103\n",
            " Japan                            92\n",
            " Guatemala                        88\n",
            " Poland                           87\n",
            " Vietnam                          86\n",
            " Columbia                         85\n",
            " Haiti                            75\n",
            " Portugal                         67\n",
            " Taiwan                           65\n",
            " Iran                             59\n",
            " Greece                           49\n",
            " Nicaragua                        49\n",
            " Peru                             46\n",
            " Ecuador                          45\n",
            " France                           38\n",
            " Ireland                          37\n",
            " Hong                             30\n",
            " Thailand                         30\n",
            " Cambodia                         28\n",
            " Trinadad&Tobago                  27\n",
            " Yugoslavia                       23\n",
            " Outlying-US(Guam-USVI-etc)       23\n",
            " Laos                             23\n",
            " Scotland                         21\n",
            " Honduras                         20\n",
            " Hungary                          19\n",
            " Holand-Netherlands                1\n",
            "Name: Country, dtype: int64\n"
          ]
        }
      ],
      "source": [
        "# Observe the categories of Country\n",
        "print(x_data['Country'].value_counts(dropna=False))"
      ]
    },
    {
      "cell_type": "markdown",
      "source": [
        "Since most of the countries are the United-States, I fill the missing value with United-States. The others countries distributed widely and the number of each group are even less than 100. Therefore, I group the data, except United-States and Maxico, by their locations."
      ],
      "metadata": {
        "id": "_5j2PElOTYag"
      }
    },
    {
      "cell_type": "code",
      "execution_count": null,
      "metadata": {
        "id": "k2Qi7uKgqUZ6"
      },
      "outputs": [],
      "source": [
        "# Fill nan values with United-States\n",
        "x_data['Country'] = x_data['Country'].fillna( value = ' United-States')\n",
        "\n",
        "# Group the data, except United-States, Maxico, Canada, and South, by their locations\n",
        "x_data['Country'] = x_data['Country'].replace([' Philippines', ' India', ' Vietnam', ' Thailand', ' Laos', ' Cambodia', ' Iran'] ,' SE-Asia')\n",
        "x_data['Country'] = x_data['Country'].replace([' China', ' Taiwan', ' Japan', ' Hong'] ,' E-Asia')\n",
        "x_data['Country'] = x_data['Country'].replace([' Germany', ' England', ' Italy', ' Poland', ' Portugal',' Greece',' France',' Ireland',\n",
        "                                               ' Yugoslavia',' Scotland',' Hungary', ' Holand-Netherlands'] ,' Europe')\n",
        "x_data['Country'] = x_data['Country'].replace([' Puerto-Rico', ' El-Salvador', ' Cuba', ' Jamaica', ' Dominican-Republic', ' Guatemala', ' Haiti',\n",
        "                                               ' Nicaragua',' Trinadad&Tobago',' Honduras'] ,' Central-America')\n",
        "x_data['Country'] = x_data['Country'].replace([' Columbia',' Peru',' Ecuador' ]\n",
        "                                              ,' South-America')\n",
        "x_data['Country'] = x_data['Country'].replace([' Outlying-US(Guam-USVI-etc)' ] ,' United-States')"
      ]
    },
    {
      "cell_type": "code",
      "source": [
        "x_data['Country'].value_counts(dropna=False)"
      ],
      "metadata": {
        "colab": {
          "base_uri": "https://localhost:8080/"
        },
        "id": "Mc8z9il9TytH",
        "outputId": "2735c00a-5633-41d9-8b49-a6ba08ef7195"
      },
      "execution_count": null,
      "outputs": [
        {
          "output_type": "execute_result",
          "data": {
            "text/plain": [
              " United-States      44712\n",
              " Mexico               951\n",
              " Central-America      945\n",
              " Europe               780\n",
              " SE-Asia              672\n",
              " E-Asia               309\n",
              " Canada               182\n",
              " South-America        176\n",
              " South                115\n",
              "Name: Country, dtype: int64"
            ]
          },
          "metadata": {},
          "execution_count": 26
        }
      ]
    },
    {
      "cell_type": "code",
      "execution_count": null,
      "metadata": {
        "id": "u7d_KhwdqUZ7",
        "outputId": "f4fd3256-1ffb-4087-b717-2c6cb058ae58",
        "colab": {
          "base_uri": "https://localhost:8080/",
          "height": 410
        }
      },
      "outputs": [
        {
          "output_type": "display_data",
          "data": {
            "text/plain": [
              "<Figure size 1200x400 with 1 Axes>"
            ],
            "image/png": "[encoded data removed]"
          },
          "metadata": {}
        }
      ],
      "source": [
        "# Plot the result after grouping\n",
        "cty_x = x_data['Country'].value_counts(dropna=False).keys().to_list()\n",
        "cty_cnt = x_data['Country'].value_counts(dropna=False).to_list()\n",
        "\n",
        "plt.figure(figsize=(12,4))\n",
        "plt.bar( cty_x, cty_cnt, color = 'grey', width = 0.6)\n",
        "plt.xlabel('Country')\n",
        "plt.ylabel('Count')\n",
        "plt.title('Distribution of Country (after grouping)')\n",
        "plt.show()\n",
        "plt.close()"
      ]
    },
    {
      "cell_type": "markdown",
      "source": [
        "<font color = blue> 8. *Relationship*"
      ],
      "metadata": {
        "id": "aqeo31qPT3iL"
      }
    },
    {
      "cell_type": "code",
      "source": [
        "# Observe the categories\n",
        "x_data['Relationship'].value_counts(dropna=False)"
      ],
      "metadata": {
        "colab": {
          "base_uri": "https://localhost:8080/"
        },
        "id": "rrbsnESLT2rZ",
        "outputId": "4353b1e1-5da2-4934-f84e-13083da7006d"
      },
      "execution_count": null,
      "outputs": [
        {
          "output_type": "execute_result",
          "data": {
            "text/plain": [
              " Husband           19716\n",
              " Not-in-family     12583\n",
              " Own-child          7581\n",
              " Unmarried          5125\n",
              " Wife               2331\n",
              " Other-relative     1506\n",
              "Name: Relationship, dtype: int64"
            ]
          },
          "metadata": {},
          "execution_count": 28
        }
      ]
    },
    {
      "cell_type": "code",
      "source": [
        "# Plot the pie chart\n",
        "rel_x = x_data['Relationship'].value_counts(dropna=False).keys().to_list()\n",
        "rel_cnt = x_data['Relationship'].value_counts(dropna=False).to_list()\n",
        "plt.figure(figsize=(5,5))\n",
        "plt.pie( rel_cnt, labels = rel_x, colors = ['lightskyblue', 'pink', 'lightblue', 'lightgreen',\n",
        "'gold','orange'],\n",
        "autopct = \"%1.1f%%\",)\n",
        "plt.title('Pie Chart of Relationship')\n",
        "plt.show()\n",
        "plt.close()"
      ],
      "metadata": {
        "colab": {
          "base_uri": "https://localhost:8080/",
          "height": 444
        },
        "id": "691b44WgT_0G",
        "outputId": "efd9ab44-91df-42cf-deb7-fecb0c2bbdbf"
      },
      "execution_count": null,
      "outputs": [
        {
          "output_type": "display_data",
          "data": {
            "text/plain": [
              "<Figure size 500x500 with 1 Axes>"
            ],
            "image/png": "[encoded data removed]"
          },
          "metadata": {}
        }
      ]
    },
    {
      "cell_type": "markdown",
      "source": [
        "<font color = blue> 9. *Race*"
      ],
      "metadata": {
        "id": "VWRWd2wwUBjB"
      }
    },
    {
      "cell_type": "code",
      "source": [
        "# Observe the categories\n",
        "x_data['Race'].value_counts(dropna=False)"
      ],
      "metadata": {
        "colab": {
          "base_uri": "https://localhost:8080/"
        },
        "id": "fISUUv8jUHTS",
        "outputId": "0b972636-4781-42f6-c9a8-c9fbc6767dd1"
      },
      "execution_count": null,
      "outputs": [
        {
          "output_type": "execute_result",
          "data": {
            "text/plain": [
              " White                 41762\n",
              " Black                  4685\n",
              " Asian-Pac-Islander     1519\n",
              " Amer-Indian-Eskimo      470\n",
              " Other                   406\n",
              "Name: Race, dtype: int64"
            ]
          },
          "metadata": {},
          "execution_count": 30
        }
      ]
    },
    {
      "cell_type": "code",
      "source": [
        "# Plot the pie chart\n",
        "race_x = x_data['Race'].value_counts(dropna=False).keys().to_list()\n",
        "race_cnt = x_data['Race'].value_counts(dropna=False).to_list()\n",
        "plt.figure(figsize=(8,8))\n",
        "plt.pie( race_cnt, labels = race_x, colors = ['lightskyblue', 'pink', 'orange', 'lightgreen',\n",
        "'gold'],\n",
        "autopct = \"%1.1f%%\",)\n",
        "plt.title('Pie Chart of Race')\n",
        "plt.show()\n",
        "plt.close()"
      ],
      "metadata": {
        "colab": {
          "base_uri": "https://localhost:8080/",
          "height": 675
        },
        "id": "ZbzqqVkiUJU3",
        "outputId": "72235302-053e-4ae8-d807-4e1224661792"
      },
      "execution_count": null,
      "outputs": [
        {
          "output_type": "display_data",
          "data": {
            "text/plain": [
              "<Figure size 800x800 with 1 Axes>"
            ],
            "image/png": "[encoded data removed]"
          },
          "metadata": {}
        }
      ]
    },
    {
      "cell_type": "markdown",
      "source": [
        "<font color = blue> 10. *Sex*"
      ],
      "metadata": {
        "id": "9FZJb4shUNRP"
      }
    },
    {
      "cell_type": "code",
      "source": [
        "# Observe the categories\n",
        "x_data['Sex'].value_counts(dropna=False)"
      ],
      "metadata": {
        "colab": {
          "base_uri": "https://localhost:8080/"
        },
        "id": "Lki2elQUUSfK",
        "outputId": "6e92e7f7-e723-4097-c358-2bf9d58ef416"
      },
      "execution_count": null,
      "outputs": [
        {
          "output_type": "execute_result",
          "data": {
            "text/plain": [
              " Male      32650\n",
              " Female    16192\n",
              "Name: Sex, dtype: int64"
            ]
          },
          "metadata": {},
          "execution_count": 32
        }
      ]
    },
    {
      "cell_type": "markdown",
      "source": [
        "It shows that the number of males is around twice of females. We need to know that if it's the common situation in both training and testing set."
      ],
      "metadata": {
        "id": "koEhHMoqUVvx"
      }
    },
    {
      "cell_type": "code",
      "source": [
        "# Plot the pie chart of Sex in training dset\n",
        "sex_x = x_train['Sex'].value_counts(dropna=False).keys().to_list()\n",
        "sex_cnt = x_train['Sex'].value_counts(dropna=False).to_list()\n",
        "plt.figure(figsize=(4,4))\n",
        "plt.pie( sex_cnt, labels = sex_x, colors = ['lightskyblue', 'pink'], autopct = \"%1.1f%%\",)\n",
        "plt.title('Pie Chart of Sex in training data')\n",
        "plt.show()\n",
        "plt.close()"
      ],
      "metadata": {
        "colab": {
          "base_uri": "https://localhost:8080/",
          "height": 367
        },
        "id": "va9RgCHPUc61",
        "outputId": "46ff62ca-fc3e-4190-9bcd-7dc72f175689"
      },
      "execution_count": null,
      "outputs": [
        {
          "output_type": "display_data",
          "data": {
            "text/plain": [
              "<Figure size 400x400 with 1 Axes>"
            ],
            "image/png": "[encoded data removed]"
          },
          "metadata": {}
        }
      ]
    },
    {
      "cell_type": "code",
      "source": [
        "# Plot the pie chart of Sex in testing set\n",
        "sex_x = x_test['Sex'].value_counts(dropna=False).keys().to_list()\n",
        "sex_cnt = x_test['Sex'].value_counts(dropna=False).to_list()\n",
        "plt.figure(figsize=(4,4))\n",
        "plt.pie( sex_cnt, labels = sex_x, colors = ['lightskyblue', 'pink'], autopct = \"%1.1f%%\",)\n",
        "plt.title('Pie Chart of Sex')\n",
        "plt.show()\n",
        "plt.close()"
      ],
      "metadata": {
        "colab": {
          "base_uri": "https://localhost:8080/",
          "height": 367
        },
        "id": "QuJftp1uUgUp",
        "outputId": "8d1c2951-5119-4b15-f168-79267cd6056c"
      },
      "execution_count": null,
      "outputs": [
        {
          "output_type": "display_data",
          "data": {
            "text/plain": [
              "<Figure size 400x400 with 1 Axes>"
            ],
            "image/png": "[encoded data removed]"
          },
          "metadata": {}
        }
      ]
    },
    {
      "cell_type": "markdown",
      "source": [
        "Though there are some differences between two sets, I decided not to adjust since the difference isn't significant."
      ],
      "metadata": {
        "id": "QJnje74FUixF"
      }
    },
    {
      "cell_type": "markdown",
      "metadata": {
        "id": "QyF9hQ8CUsYc"
      },
      "source": [
        "<font color = blue> 11. *Capital_gain* and *Capital_loss*\n",
        "\n",
        "Since they are numerical data and I'll do standardization later, no additional analysis is conducted here."
      ]
    },
    {
      "cell_type": "markdown",
      "metadata": {
        "id": "8j_LrWUJqUZ7"
      },
      "source": [
        "<font color = blue> 12. *Target* --- imbalanced data"
      ]
    },
    {
      "cell_type": "code",
      "execution_count": null,
      "metadata": {
        "id": "fP9E_MX1qUZ8",
        "outputId": "7b930c89-d1cd-48fb-c00f-c4ad2aa8ce47",
        "colab": {
          "base_uri": "https://localhost:8080/",
          "height": 367
        }
      },
      "outputs": [
        {
          "output_type": "display_data",
          "data": {
            "text/plain": [
              "<Figure size 400x400 with 1 Axes>"
            ],
            "image/png": "[encoded data removed]"
          },
          "metadata": {}
        }
      ],
      "source": [
        "# Plot the pie chart of Target in training set\n",
        "target_x = [0,1]\n",
        "num_1 = sum(y_train['Target'])\n",
        "num_0 = len(y_train['Target']) - num_1\n",
        "target_cnt = [ num_0, num_1]\n",
        "\n",
        "plt.figure(figsize=(4,4))\n",
        "plt.pie( target_cnt, labels = target_x, colors = ['lightskyblue', 'pink'], autopct = \"%1.1f%%\",)\n",
        "plt.title('Pie Chart of Target')\n",
        "plt.show()\n",
        "plt.close()"
      ]
    },
    {
      "cell_type": "markdown",
      "metadata": {
        "id": "6FoZR5WzqUZ9"
      },
      "source": [
        "The pie chart shows that the target distribution is \"imbalanced\".  \n",
        "    Besides, after submitting \"sub_try.csv\", which with all target labeled 1, I got accuracy = 0.59 on Kaggle.  \n",
        "    I reasonably guessed that the distribution of target in the testing set is not that imbalanced like in the training set.  \n",
        "    Hence, we need to tackle **imbalanced data problem** later when building the model!"
      ]
    },
    {
      "cell_type": "markdown",
      "metadata": {
        "id": "mD-K1elSqUZ9"
      },
      "source": [
        "### <font color = blue>**Step 3: One-hot-encoding**"
      ]
    },
    {
      "cell_type": "code",
      "execution_count": null,
      "metadata": {
        "id": "NKqkLCBdqUZ9",
        "outputId": "bcf79fed-e80a-481f-c734-15f5defeb631",
        "colab": {
          "base_uri": "https://localhost:8080/",
          "height": 184
        }
      },
      "outputs": [
        {
          "output_type": "execute_result",
          "data": {
            "text/plain": [
              "   Age  Education_Num  Capital_Gain  Capital_Loss  Hours_per_week  Edu*Hr  \\\n",
              "0   38              9             0             0              50     450   \n",
              "1   18             10             0             0              30     300   \n",
              "\n",
              "   Workclass_ Others  Workclass_ Private  Workclass_ Self  \\\n",
              "0                  0                   1                0   \n",
              "1                  1                   0                0   \n",
              "\n",
              "   Martial_Status_ Married  Martial_Status_ Never-married  \\\n",
              "0                        1                              0   \n",
              "1                        0                              1   \n",
              "\n",
              "   Martial_Status_ Separated  Martial_Status_ Widowed  \\\n",
              "0                          0                        0   \n",
              "1                          0                        0   \n",
              "\n",
              "   Occupation_ Armed-Forces  Occupation_ Craft-repair  \\\n",
              "0                         0                         0   \n",
              "1                         0                         0   \n",
              "\n",
              "   Occupation_ Exec-managerial  Occupation_ Farming-fishing  \\\n",
              "0                            0                            1   \n",
              "1                            0                            0   \n",
              "\n",
              "   Occupation_ Handlers-cleaners  Occupation_ Machine-op-inspct  \\\n",
              "0                              0                              0   \n",
              "1                              0                              0   \n",
              "\n",
              "   Occupation_ Other-service  Occupation_ Priv-house-serv  \\\n",
              "0                          0                            0   \n",
              "1                          1                            0   \n",
              "\n",
              "   Occupation_ Prof-specialty  Occupation_ Protective-serv  Occupation_ Sales  \\\n",
              "0                           0                            0                  0   \n",
              "1                           0                            0                  0   \n",
              "\n",
              "   Occupation_ Tech-support  Occupation_ Transport-moving  \\\n",
              "0                         0                             0   \n",
              "1                         0                             0   \n",
              "\n",
              "   Relationship_ Not-in-family  Relationship_ Other-relative  \\\n",
              "0                            0                             0   \n",
              "1                            0                             0   \n",
              "\n",
              "   Relationship_ Own-child  Relationship_ Unmarried  Relationship_ Wife  \\\n",
              "0                        0                        0                   0   \n",
              "1                        1                        0                   0   \n",
              "\n",
              "   Race_ Asian-Pac-Islander  Race_ Black  Race_ Other  Race_ White  Sex_ Male  \\\n",
              "0                         0            0            0            1          1   \n",
              "1                         0            0            0            1          0   \n",
              "\n",
              "   Country_ Central-America  Country_ E-Asia  Country_ Europe  \\\n",
              "0                         0                0                0   \n",
              "1                         0                0                0   \n",
              "\n",
              "   Country_ Mexico  Country_ SE-Asia  Country_ South  Country_ South-America  \\\n",
              "0                0                 0               0                       0   \n",
              "1                0                 0               0                       0   \n",
              "\n",
              "   Country_ United-States  \n",
              "0                       1  \n",
              "1                       1  "
            ],
            "text/html": [
              "\n",
              "  <div id=\"df-2da57650-5855-40b4-986d-034dd95d4bba\" class=\"colab-df-container\">\n",
              "    <div>\n",
              "<style scoped>\n",
              "    .dataframe tbody tr th:only-of-type {\n",
              "        vertical-align: middle;\n",
              "    }\n",
              "\n",
              "    .dataframe tbody tr th {\n",
              "        vertical-align: top;\n",
              "    }\n",
              "\n",
              "    .dataframe thead th {\n",
              "        text-align: right;\n",
              "    }\n",
              "</style>\n",
              "<table border=\"1\" class=\"dataframe\">\n",
              "  <thead>\n",
              "    <tr style=\"text-align: right;\">\n",
              "      <th></th>\n",
              "      <th>Age</th>\n",
              "      <th>Education_Num</th>\n",
              "      <th>Capital_Gain</th>\n",
              "      <th>Capital_Loss</th>\n",
              "      <th>Hours_per_week</th>\n",
              "      <th>Edu*Hr</th>\n",
              "      <th>Workclass_ Others</th>\n",
              "      <th>Workclass_ Private</th>\n",
              "      <th>Workclass_ Self</th>\n",
              "      <th>Martial_Status_ Married</th>\n",
              "      <th>Martial_Status_ Never-married</th>\n",
              "      <th>Martial_Status_ Separated</th>\n",
              "      <th>Martial_Status_ Widowed</th>\n",
              "      <th>Occupation_ Armed-Forces</th>\n",
              "      <th>Occupation_ Craft-repair</th>\n",
              "      <th>Occupation_ Exec-managerial</th>\n",
              "      <th>Occupation_ Farming-fishing</th>\n",
              "      <th>Occupation_ Handlers-cleaners</th>\n",
              "      <th>Occupation_ Machine-op-inspct</th>\n",
              "      <th>Occupation_ Other-service</th>\n",
              "      <th>Occupation_ Priv-house-serv</th>\n",
              "      <th>Occupation_ Prof-specialty</th>\n",
              "      <th>Occupation_ Protective-serv</th>\n",
              "      <th>Occupation_ Sales</th>\n",
              "      <th>Occupation_ Tech-support</th>\n",
              "      <th>Occupation_ Transport-moving</th>\n",
              "      <th>Relationship_ Not-in-family</th>\n",
              "      <th>Relationship_ Other-relative</th>\n",
              "      <th>Relationship_ Own-child</th>\n",
              "      <th>Relationship_ Unmarried</th>\n",
              "      <th>Relationship_ Wife</th>\n",
              "      <th>Race_ Asian-Pac-Islander</th>\n",
              "      <th>Race_ Black</th>\n",
              "      <th>Race_ Other</th>\n",
              "      <th>Race_ White</th>\n",
              "      <th>Sex_ Male</th>\n",
              "      <th>Country_ Central-America</th>\n",
              "      <th>Country_ E-Asia</th>\n",
              "      <th>Country_ Europe</th>\n",
              "      <th>Country_ Mexico</th>\n",
              "      <th>Country_ SE-Asia</th>\n",
              "      <th>Country_ South</th>\n",
              "      <th>Country_ South-America</th>\n",
              "      <th>Country_ United-States</th>\n",
              "    </tr>\n",
              "  </thead>\n",
              "  <tbody>\n",
              "    <tr>\n",
              "      <th>0</th>\n",
              "      <td>38</td>\n",
              "      <td>9</td>\n",
              "      <td>0</td>\n",
              "      <td>0</td>\n",
              "      <td>50</td>\n",
              "      <td>450</td>\n",
              "      <td>0</td>\n",
              "      <td>1</td>\n",
              "      <td>0</td>\n",
              "      <td>1</td>\n",
              "      <td>0</td>\n",
              "      <td>0</td>\n",
              "      <td>0</td>\n",
              "      <td>0</td>\n",
              "      <td>0</td>\n",
              "      <td>0</td>\n",
              "      <td>1</td>\n",
              "      <td>0</td>\n",
              "      <td>0</td>\n",
              "      <td>0</td>\n",
              "      <td>0</td>\n",
              "      <td>0</td>\n",
              "      <td>0</td>\n",
              "      <td>0</td>\n",
              "      <td>0</td>\n",
              "      <td>0</td>\n",
              "      <td>0</td>\n",
              "      <td>0</td>\n",
              "      <td>0</td>\n",
              "      <td>0</td>\n",
              "      <td>0</td>\n",
              "      <td>0</td>\n",
              "      <td>0</td>\n",
              "      <td>0</td>\n",
              "      <td>1</td>\n",
              "      <td>1</td>\n",
              "      <td>0</td>\n",
              "      <td>0</td>\n",
              "      <td>0</td>\n",
              "      <td>0</td>\n",
              "      <td>0</td>\n",
              "      <td>0</td>\n",
              "      <td>0</td>\n",
              "      <td>1</td>\n",
              "    </tr>\n",
              "    <tr>\n",
              "      <th>1</th>\n",
              "      <td>18</td>\n",
              "      <td>10</td>\n",
              "      <td>0</td>\n",
              "      <td>0</td>\n",
              "      <td>30</td>\n",
              "      <td>300</td>\n",
              "      <td>1</td>\n",
              "      <td>0</td>\n",
              "      <td>0</td>\n",
              "      <td>0</td>\n",
              "      <td>1</td>\n",
              "      <td>0</td>\n",
              "      <td>0</td>\n",
              "      <td>0</td>\n",
              "      <td>0</td>\n",
              "      <td>0</td>\n",
              "      <td>0</td>\n",
              "      <td>0</td>\n",
              "      <td>0</td>\n",
              "      <td>1</td>\n",
              "      <td>0</td>\n",
              "      <td>0</td>\n",
              "      <td>0</td>\n",
              "      <td>0</td>\n",
              "      <td>0</td>\n",
              "      <td>0</td>\n",
              "      <td>0</td>\n",
              "      <td>0</td>\n",
              "      <td>1</td>\n",
              "      <td>0</td>\n",
              "      <td>0</td>\n",
              "      <td>0</td>\n",
              "      <td>0</td>\n",
              "      <td>0</td>\n",
              "      <td>1</td>\n",
              "      <td>0</td>\n",
              "      <td>0</td>\n",
              "      <td>0</td>\n",
              "      <td>0</td>\n",
              "      <td>0</td>\n",
              "      <td>0</td>\n",
              "      <td>0</td>\n",
              "      <td>0</td>\n",
              "      <td>1</td>\n",
              "    </tr>\n",
              "  </tbody>\n",
              "</table>\n",
              "</div>\n",
              "    <div class=\"colab-df-buttons\">\n",
              "\n",
              "  <div class=\"colab-df-container\">\n",
              "    <button class=\"colab-df-convert\" onclick=\"convertToInteractive('df-2da57650-5855-40b4-986d-034dd95d4bba')\"\n",
              "            title=\"Convert this dataframe to an interactive table.\"\n",
              "            style=\"display:none;\">\n",
              "\n",
              "  <svg xmlns=\"http://www.w3.org/2000/svg\" height=\"24px\" viewBox=\"0 -960 960 960\">\n",
              "    <path d=\"M120-120v-720h720v720H120Zm60-500h600v-160H180v160Zm220 220h160v-160H400v160Zm0 220h160v-160H400v160ZM180-400h160v-160H180v160Zm440 0h160v-160H620v160ZM180-180h160v-160H180v160Zm440 0h160v-160H620v160Z\"/>\n",
              "  </svg>\n",
              "    </button>\n",
              "\n",
              "  <style>\n",
              "    .colab-df-container {\n",
              "      display:flex;\n",
              "      gap: 12px;\n",
              "    }\n",
              "\n",
              "    .colab-df-convert {\n",
              "      background-color: #E8F0FE;\n",
              "      border: none;\n",
              "      border-radius: 50%;\n",
              "      cursor: pointer;\n",
              "      display: none;\n",
              "      fill: #1967D2;\n",
              "      height: 32px;\n",
              "      padding: 0 0 0 0;\n",
              "      width: 32px;\n",
              "    }\n",
              "\n",
              "    .colab-df-convert:hover {\n",
              "      background-color: #E2EBFA;\n",
              "      box-shadow: 0px 1px 2px rgba(60, 64, 67, 0.3), 0px 1px 3px 1px rgba(60, 64, 67, 0.15);\n",
              "      fill: #174EA6;\n",
              "    }\n",
              "\n",
              "    .colab-df-buttons div {\n",
              "      margin-bottom: 4px;\n",
              "    }\n",
              "\n",
              "    [theme=dark] .colab-df-convert {\n",
              "      background-color: #3B4455;\n",
              "      fill: #D2E3FC;\n",
              "    }\n",
              "\n",
              "    [theme=dark] .colab-df-convert:hover {\n",
              "      background-color: #434B5C;\n",
              "      box-shadow: 0px 1px 3px 1px rgba(0, 0, 0, 0.15);\n",
              "      filter: drop-shadow(0px 1px 2px rgba(0, 0, 0, 0.3));\n",
              "      fill: #FFFFFF;\n",
              "    }\n",
              "  </style>\n",
              "\n",
              "    <script>\n",
              "      const buttonEl =\n",
              "        document.querySelector('#df-2da57650-5855-40b4-986d-034dd95d4bba button.colab-df-convert');\n",
              "      buttonEl.style.display =\n",
              "        google.colab.kernel.accessAllowed ? 'block' : 'none';\n",
              "\n",
              "      async function convertToInteractive(key) {\n",
              "        const element = document.querySelector('#df-2da57650-5855-40b4-986d-034dd95d4bba');\n",
              "        const dataTable =\n",
              "          await google.colab.kernel.invokeFunction('convertToInteractive',\n",
              "                                                    [key], {});\n",
              "        if (!dataTable) return;\n",
              "\n",
              "        const docLinkHtml = 'Like what you see? Visit the ' +\n",
              "          '<a target=\"_blank\" href=https://colab.research.google.com/notebooks/data_table.ipynb>data table notebook</a>'\n",
              "          + ' to learn more about interactive tables.';\n",
              "        element.innerHTML = '';\n",
              "        dataTable['output_type'] = 'display_data';\n",
              "        await google.colab.output.renderOutput(dataTable, element);\n",
              "        const docLink = document.createElement('div');\n",
              "        docLink.innerHTML = docLinkHtml;\n",
              "        element.appendChild(docLink);\n",
              "      }\n",
              "    </script>\n",
              "  </div>\n",
              "\n",
              "\n",
              "<div id=\"df-b263d854-3cbe-4703-92c4-7fb93c5a83d6\">\n",
              "  <button class=\"colab-df-quickchart\" onclick=\"quickchart('df-b263d854-3cbe-4703-92c4-7fb93c5a83d6')\"\n",
              "            title=\"Suggest charts\"\n",
              "            style=\"display:none;\">\n",
              "\n",
              "<svg xmlns=\"http://www.w3.org/2000/svg\" height=\"24px\"viewBox=\"0 0 24 24\"\n",
              "     width=\"24px\">\n",
              "    <g>\n",
              "        <path d=\"M19 3H5c-1.1 0-2 .9-2 2v14c0 1.1.9 2 2 2h14c1.1 0 2-.9 2-2V5c0-1.1-.9-2-2-2zM9 17H7v-7h2v7zm4 0h-2V7h2v10zm4 0h-2v-4h2v4z\"/>\n",
              "    </g>\n",
              "</svg>\n",
              "  </button>\n",
              "\n",
              "<style>\n",
              "  .colab-df-quickchart {\n",
              "      --bg-color: #E8F0FE;\n",
              "      --fill-color: #1967D2;\n",
              "      --hover-bg-color: #E2EBFA;\n",
              "      --hover-fill-color: #174EA6;\n",
              "      --disabled-fill-color: #AAA;\n",
              "      --disabled-bg-color: #DDD;\n",
              "  }\n",
              "\n",
              "  [theme=dark] .colab-df-quickchart {\n",
              "      --bg-color: #3B4455;\n",
              "      --fill-color: #D2E3FC;\n",
              "      --hover-bg-color: #434B5C;\n",
              "      --hover-fill-color: #FFFFFF;\n",
              "      --disabled-bg-color: #3B4455;\n",
              "      --disabled-fill-color: #666;\n",
              "  }\n",
              "\n",
              "  .colab-df-quickchart {\n",
              "    background-color: var(--bg-color);\n",
              "    border: none;\n",
              "    border-radius: 50%;\n",
              "    cursor: pointer;\n",
              "    display: none;\n",
              "    fill: var(--fill-color);\n",
              "    height: 32px;\n",
              "    padding: 0;\n",
              "    width: 32px;\n",
              "  }\n",
              "\n",
              "  .colab-df-quickchart:hover {\n",
              "    background-color: var(--hover-bg-color);\n",
              "    box-shadow: 0 1px 2px rgba(60, 64, 67, 0.3), 0 1px 3px 1px rgba(60, 64, 67, 0.15);\n",
              "    fill: var(--button-hover-fill-color);\n",
              "  }\n",
              "\n",
              "  .colab-df-quickchart-complete:disabled,\n",
              "  .colab-df-quickchart-complete:disabled:hover {\n",
              "    background-color: var(--disabled-bg-color);\n",
              "    fill: var(--disabled-fill-color);\n",
              "    box-shadow: none;\n",
              "  }\n",
              "\n",
              "  .colab-df-spinner {\n",
              "    border: 2px solid var(--fill-color);\n",
              "    border-color: transparent;\n",
              "    border-bottom-color: var(--fill-color);\n",
              "    animation:\n",
              "      spin 1s steps(1) infinite;\n",
              "  }\n",
              "\n",
              "  @keyframes spin {\n",
              "    0% {\n",
              "      border-color: transparent;\n",
              "      border-bottom-color: var(--fill-color);\n",
              "      border-left-color: var(--fill-color);\n",
              "    }\n",
              "    20% {\n",
              "      border-color: transparent;\n",
              "      border-left-color: var(--fill-color);\n",
              "      border-top-color: var(--fill-color);\n",
              "    }\n",
              "    30% {\n",
              "      border-color: transparent;\n",
              "      border-left-color: var(--fill-color);\n",
              "      border-top-color: var(--fill-color);\n",
              "      border-right-color: var(--fill-color);\n",
              "    }\n",
              "    40% {\n",
              "      border-color: transparent;\n",
              "      border-right-color: var(--fill-color);\n",
              "      border-top-color: var(--fill-color);\n",
              "    }\n",
              "    60% {\n",
              "      border-color: transparent;\n",
              "      border-right-color: var(--fill-color);\n",
              "    }\n",
              "    80% {\n",
              "      border-color: transparent;\n",
              "      border-right-color: var(--fill-color);\n",
              "      border-bottom-color: var(--fill-color);\n",
              "    }\n",
              "    90% {\n",
              "      border-color: transparent;\n",
              "      border-bottom-color: var(--fill-color);\n",
              "    }\n",
              "  }\n",
              "</style>\n",
              "\n",
              "  <script>\n",
              "    async function quickchart(key) {\n",
              "      const quickchartButtonEl =\n",
              "        document.querySelector('#' + key + ' button');\n",
              "      quickchartButtonEl.disabled = true;  // To prevent multiple clicks.\n",
              "      quickchartButtonEl.classList.add('colab-df-spinner');\n",
              "      try {\n",
              "        const charts = await google.colab.kernel.invokeFunction(\n",
              "            'suggestCharts', [key], {});\n",
              "      } catch (error) {\n",
              "        console.error('Error during call to suggestCharts:', error);\n",
              "      }\n",
              "      quickchartButtonEl.classList.remove('colab-df-spinner');\n",
              "      quickchartButtonEl.classList.add('colab-df-quickchart-complete');\n",
              "    }\n",
              "    (() => {\n",
              "      let quickchartButtonEl =\n",
              "        document.querySelector('#df-b263d854-3cbe-4703-92c4-7fb93c5a83d6 button');\n",
              "      quickchartButtonEl.style.display =\n",
              "        google.colab.kernel.accessAllowed ? 'block' : 'none';\n",
              "    })();\n",
              "  </script>\n",
              "</div>\n",
              "\n",
              "    </div>\n",
              "  </div>\n"
            ]
          },
          "metadata": {},
          "execution_count": 36
        }
      ],
      "source": [
        "# Transfer all categorical data using one-hot-encoding\n",
        "x_data_ohe = pd.get_dummies( x_data, drop_first=True ) # \"drop_first = True\" can avoid colinearity!\n",
        "pd.set_option('display.max_columns',47)\n",
        "x_data_ohe.head(2)"
      ]
    },
    {
      "cell_type": "markdown",
      "metadata": {
        "id": "apdypunQqUaA"
      },
      "source": [
        "### <font color = blue> **Step 4. Standardization**\n",
        "\n",
        "First, separate data into train and test."
      ]
    },
    {
      "cell_type": "code",
      "execution_count": null,
      "metadata": {
        "id": "4movRvAuqUaB",
        "colab": {
          "base_uri": "https://localhost:8080/"
        },
        "outputId": "a038f1d6-6405-45dd-9e08-1e9d22e41354"
      },
      "outputs": [
        {
          "output_type": "stream",
          "name": "stdout",
          "text": [
            "<class 'pandas.core.frame.DataFrame'>\n",
            "Int64Index: 29514 entries, 0 to 29513\n",
            "Columns: 44 entries, Age to Country_ United-States\n",
            "dtypes: int64(6), uint8(38)\n",
            "memory usage: 2.6 MB\n",
            "<class 'pandas.core.frame.DataFrame'>\n",
            "Int64Index: 19328 entries, 0 to 19327\n",
            "Columns: 44 entries, Age to Country_ United-States\n",
            "dtypes: int64(6), uint8(38)\n",
            "memory usage: 1.7 MB\n"
          ]
        }
      ],
      "source": [
        "# Split x_data_ohe back into training and testing data(as the same as the sets in the beginning)\n",
        "x_train_ohe = x_data_ohe[:29514]\n",
        "x_test_ohe = x_data_ohe[29514:]\n",
        "\n",
        "# Ensure the number of samples is the same as original after splitting x_data_ohe\n",
        "x_train_ohe.info()\n",
        "x_test_ohe.info()"
      ]
    },
    {
      "cell_type": "markdown",
      "source": [
        "I standardized all numerical features, fit the scalar with the training dataset first, and then used the mean and standard deviations from the training dataset to adjust the testing dataset."
      ],
      "metadata": {
        "id": "TMtFcE4RVmoA"
      }
    },
    {
      "cell_type": "code",
      "execution_count": null,
      "metadata": {
        "id": "OENZotQHqUag",
        "outputId": "2a0d6c1e-a4f0-43b6-daa9-cca8289c0f57",
        "colab": {
          "base_uri": "https://localhost:8080/"
        }
      },
      "outputs": [
        {
          "output_type": "stream",
          "name": "stdout",
          "text": [
            "[ 37.81290235   9.82770888 615.67120688  72.99769601  39.65087755\n",
            " 393.34661517] [1.39662451e+01 2.50482289e+00 5.48778103e+03 3.67699095e+02\n",
            " 1.24633482e+01 1.70061746e+02]\n"
          ]
        },
        {
          "output_type": "stream",
          "name": "stderr",
          "text": [
            "<ipython-input-38-ae744427cb99>:8: SettingWithCopyWarning: \n",
            "A value is trying to be set on a copy of a slice from a DataFrame.\n",
            "Try using .loc[row_indexer,col_indexer] = value instead\n",
            "\n",
            "See the caveats in the documentation: https://pandas.pydata.org/pandas-docs/stable/user_guide/indexing.html#returning-a-view-versus-a-copy\n",
            "  x_train_ohe[ numerical_feature ] = scalar.transform( x_train_ohe[ numerical_feature ])\n",
            "<ipython-input-38-ae744427cb99>:9: SettingWithCopyWarning: \n",
            "A value is trying to be set on a copy of a slice from a DataFrame.\n",
            "Try using .loc[row_indexer,col_indexer] = value instead\n",
            "\n",
            "See the caveats in the documentation: https://pandas.pydata.org/pandas-docs/stable/user_guide/indexing.html#returning-a-view-versus-a-copy\n",
            "  x_test_ohe[ numerical_feature ] = scalar.transform( x_test_ohe[ numerical_feature ])\n"
          ]
        }
      ],
      "source": [
        "# Use StandardScaler() to standardize all numerical features\n",
        "# Fit it with training data and use it to tranform both training and testing data\n",
        "\n",
        "from sklearn.preprocessing import StandardScaler\n",
        "numerical_feature = ['Age', 'Education_Num', 'Capital_Gain','Capital_Loss','Hours_per_week', 'Edu*Hr']\n",
        "scalar = StandardScaler().fit( x_train_ohe[numerical_feature] )\n",
        "print(scalar.mean_, scalar.scale_)\n",
        "x_train_ohe[ numerical_feature ] = scalar.transform( x_train_ohe[ numerical_feature ])\n",
        "x_test_ohe[ numerical_feature ] = scalar.transform( x_test_ohe[ numerical_feature ])"
      ]
    },
    {
      "cell_type": "code",
      "execution_count": null,
      "metadata": {
        "id": "ru-5aeKLqUan",
        "outputId": "409e4d72-e059-4a89-8850-b2bb446cf889",
        "colab": {
          "base_uri": "https://localhost:8080/"
        }
      },
      "outputs": [
        {
          "output_type": "execute_result",
          "data": {
            "text/plain": [
              "Age              -2.099320e-16\n",
              "Education_Num     2.359327e-16\n",
              "Capital_Gain     -1.203738e-18\n",
              "Capital_Loss      4.213085e-17\n",
              "Hours_per_week    2.831193e-16\n",
              "Edu*Hr            1.752643e-16\n",
              "dtype: float64"
            ]
          },
          "metadata": {},
          "execution_count": 39
        }
      ],
      "source": [
        "# Ensure the means have been tranferred to nearly zero\n",
        "x_train_ohe[numerical_feature].mean(axis = 0)"
      ]
    },
    {
      "cell_type": "code",
      "source": [
        "# Convert dataframe into numpy array for keras model\n",
        "x_train_np = x_train_ohe.values\n",
        "x_test_np = x_test_ohe.values\n",
        "y_train = y_train.values"
      ],
      "metadata": {
        "id": "hkxoqnamWtk9"
      },
      "execution_count": null,
      "outputs": []
    },
    {
      "cell_type": "code",
      "execution_count": null,
      "metadata": {
        "id": "aPhHR1MQqUao",
        "outputId": "726098c6-a5c7-4348-9cac-988aa83dcce0",
        "colab": {
          "base_uri": "https://localhost:8080/"
        }
      },
      "outputs": [
        {
          "output_type": "execute_result",
          "data": {
            "text/plain": [
              "array([[1., 0.],\n",
              "       [1., 0.],\n",
              "       [1., 0.],\n",
              "       ...,\n",
              "       [1., 0.],\n",
              "       [1., 0.],\n",
              "       [1., 0.]], dtype=float32)"
            ]
          },
          "metadata": {},
          "execution_count": 41
        }
      ],
      "source": [
        "# Convert y_train into categorical data\n",
        "from tensorflow.keras.utils import to_categorical\n",
        "\n",
        "y_train = to_categorical(y_train)\n",
        "y_train"
      ]
    },
    {
      "cell_type": "markdown",
      "metadata": {
        "id": "FIcPUk7JqUao"
      },
      "source": [
        "### **<font color = blue>Step 5: Building model**"
      ]
    },
    {
      "cell_type": "code",
      "execution_count": null,
      "metadata": {
        "id": "G1SCCKsgqUao"
      },
      "outputs": [],
      "source": [
        "# Separate training set into partial training data and validation data\n",
        "x_val = x_train_np[:6000]\n",
        "partial_x_train = x_train_np[6000:]\n",
        "y_val = y_train[:6000]\n",
        "partial_y_train = y_train[6000:]"
      ]
    },
    {
      "cell_type": "markdown",
      "metadata": {
        "id": "POUFGcnZqUap"
      },
      "source": [
        "As mentioned above, we need to tackle imbalanced data problem.    \n",
        "    I have two steps to complete that.  \n",
        "     1. Adjust the weights on 0 and 1 targets in training set when training model  \n",
        "     2. Adjust the validation set into a balanced data set"
      ]
    },
    {
      "cell_type": "code",
      "execution_count": null,
      "metadata": {
        "id": "epWzTd6NqUap",
        "outputId": "76716f51-5f20-43ee-c25f-78279d6ec4c0",
        "colab": {
          "base_uri": "https://localhost:8080/"
        }
      },
      "outputs": [
        {
          "output_type": "execute_result",
          "data": {
            "text/plain": [
              "(6000, 46)"
            ]
          },
          "metadata": {},
          "execution_count": 43
        }
      ],
      "source": [
        "# Combine features and target in validation set\n",
        "all_val = np.hstack( (x_val, y_val ))\n",
        "all_val.shape"
      ]
    },
    {
      "cell_type": "code",
      "execution_count": null,
      "metadata": {
        "id": "Mgh_Y032qUap",
        "outputId": "2aa74d17-85ce-4905-de56-f746b1e0b5af",
        "colab": {
          "base_uri": "https://localhost:8080/"
        }
      },
      "outputs": [
        {
          "output_type": "stream",
          "name": "stdout",
          "text": [
            "(719, 46)\n",
            "(5281, 46)\n"
          ]
        }
      ],
      "source": [
        "# Count the number of 1 and 0's in target\n",
        "all_val_1 = all_val[ all_val[:,45] == 1] # The number of 1\n",
        "all_val_0 = all_val[ all_val[:,44] == 1] # The number of 0\n",
        "print( all_val_1.shape )\n",
        "print( all_val_0.shape )"
      ]
    },
    {
      "cell_type": "code",
      "execution_count": null,
      "metadata": {
        "id": "SbKf64wMqUaq",
        "outputId": "315f30f8-511a-4d29-b93b-c58893618b0d",
        "colab": {
          "base_uri": "https://localhost:8080/"
        }
      },
      "outputs": [
        {
          "output_type": "stream",
          "name": "stdout",
          "text": [
            "(719, 46)\n"
          ]
        }
      ],
      "source": [
        "# Randomly select 719 samples from 0 set to get the same number as 1's set\n",
        "index = np.random.choice( all_val_0.shape[0], size = all_val_1.shape[0], replace = False)\n",
        "sel_val_0 = all_val_0[index]\n",
        "print(sel_val_0.shape)"
      ]
    },
    {
      "cell_type": "code",
      "execution_count": null,
      "metadata": {
        "id": "JSYcDi2vqUaq",
        "outputId": "83c44600-b63c-4e37-c1fc-9ab96b863c7c",
        "colab": {
          "base_uri": "https://localhost:8080/"
        }
      },
      "outputs": [
        {
          "output_type": "stream",
          "name": "stdout",
          "text": [
            "(1438, 44) (1438, 2)\n"
          ]
        }
      ],
      "source": [
        "# Create the balanced validation set with the same number of 0 and 1 in it\n",
        "val_bal = np.vstack( (all_val_1, sel_val_0))\n",
        "x_val_bal = val_bal[:,:44]\n",
        "y_val_bal = val_bal[:,44:46]\n",
        "print(x_val_bal.shape, y_val_bal.shape)"
      ]
    },
    {
      "cell_type": "code",
      "execution_count": null,
      "metadata": {
        "id": "L91emMBtqUaq"
      },
      "outputs": [],
      "source": [
        "import keras as keras\n",
        "from keras import models\n",
        "from keras import layers"
      ]
    },
    {
      "cell_type": "code",
      "execution_count": null,
      "metadata": {
        "id": "Nb8XiI3oqUaq"
      },
      "outputs": [],
      "source": [
        "# Create neural network model by keras\n",
        "model = models.Sequential()\n",
        "model.add(layers.Dense(64, activation='relu', input_shape=(44,)))\n",
        "model.add(layers.Dense(32, activation='relu'))\n",
        "model.add(layers.Dense(16, activation='relu'))\n",
        "model.add(layers.Dense(10, activation='relu'))\n",
        "model.add(layers.Dense(2, activation='softmax'))"
      ]
    },
    {
      "cell_type": "code",
      "execution_count": null,
      "metadata": {
        "id": "KXec3935qUar"
      },
      "outputs": [],
      "source": [
        "# To tackle imbalanced data issue, I set the weight of 0 as 0.135 with respect to the weight of 1\n",
        "# 0.135 comes from the approximate ratio of (targets=1)/(targets=0) in the training set\n",
        "\n",
        "from sklearn.utils.class_weight import compute_class_weight\n",
        "\n",
        "dic_weight = {0:0.135, 1:1}"
      ]
    },
    {
      "cell_type": "code",
      "source": [
        "model.compile(optimizer='rmsprop',\n",
        "loss='categorical_crossentropy',\n",
        "metrics=['accuracy'],)"
      ],
      "metadata": {
        "id": "Z8NWhM8FYIJd"
      },
      "execution_count": null,
      "outputs": []
    },
    {
      "cell_type": "code",
      "source": [
        "history = model.fit(partial_x_train,\n",
        "partial_y_train,\n",
        "epochs=20, # Increase epoch to 20 to see if there's any improvement\n",
        "batch_size=512,\n",
        "validation_data=(x_val_bal, y_val_bal),\n",
        "verbose=2, class_weight=dic_weight)"
      ],
      "metadata": {
        "colab": {
          "base_uri": "https://localhost:8080/"
        },
        "id": "lqQV05_MYPFE",
        "outputId": "2c6d1ddb-f6e2-41b6-a596-3b534d7c9ce7"
      },
      "execution_count": null,
      "outputs": [
        {
          "output_type": "stream",
          "name": "stdout",
          "text": [
            "Epoch 1/20\n",
            "46/46 - 2s - loss: 0.1267 - accuracy: 0.6801 - val_loss: 0.4306 - val_accuracy: 0.8053 - 2s/epoch - 54ms/step\n",
            "Epoch 2/20\n",
            "46/46 - 0s - loss: 0.0969 - accuracy: 0.7786 - val_loss: 0.4043 - val_accuracy: 0.8115 - 468ms/epoch - 10ms/step\n",
            "Epoch 3/20\n",
            "46/46 - 0s - loss: 0.0922 - accuracy: 0.7857 - val_loss: 0.3961 - val_accuracy: 0.8102 - 381ms/epoch - 8ms/step\n",
            "Epoch 4/20\n",
            "46/46 - 0s - loss: 0.0906 - accuracy: 0.7894 - val_loss: 0.3914 - val_accuracy: 0.8241 - 418ms/epoch - 9ms/step\n",
            "Epoch 5/20\n",
            "46/46 - 1s - loss: 0.0893 - accuracy: 0.7957 - val_loss: 0.3894 - val_accuracy: 0.8248 - 595ms/epoch - 13ms/step\n",
            "Epoch 6/20\n",
            "46/46 - 1s - loss: 0.0885 - accuracy: 0.7980 - val_loss: 0.3899 - val_accuracy: 0.8164 - 508ms/epoch - 11ms/step\n",
            "Epoch 7/20\n",
            "46/46 - 1s - loss: 0.0874 - accuracy: 0.7985 - val_loss: 0.3860 - val_accuracy: 0.8171 - 543ms/epoch - 12ms/step\n",
            "Epoch 8/20\n",
            "46/46 - 1s - loss: 0.0871 - accuracy: 0.8000 - val_loss: 0.3886 - val_accuracy: 0.8213 - 688ms/epoch - 15ms/step\n",
            "Epoch 9/20\n",
            "46/46 - 0s - loss: 0.0862 - accuracy: 0.8005 - val_loss: 0.3947 - val_accuracy: 0.8289 - 456ms/epoch - 10ms/step\n",
            "Epoch 10/20\n",
            "46/46 - 0s - loss: 0.0861 - accuracy: 0.8032 - val_loss: 0.3868 - val_accuracy: 0.8157 - 490ms/epoch - 11ms/step\n",
            "Epoch 11/20\n",
            "46/46 - 1s - loss: 0.0856 - accuracy: 0.8025 - val_loss: 0.3895 - val_accuracy: 0.8136 - 801ms/epoch - 17ms/step\n",
            "Epoch 12/20\n",
            "46/46 - 1s - loss: 0.0851 - accuracy: 0.8031 - val_loss: 0.3847 - val_accuracy: 0.8108 - 594ms/epoch - 13ms/step\n",
            "Epoch 13/20\n",
            "46/46 - 1s - loss: 0.0847 - accuracy: 0.8032 - val_loss: 0.3888 - val_accuracy: 0.8178 - 725ms/epoch - 16ms/step\n",
            "Epoch 14/20\n",
            "46/46 - 1s - loss: 0.0842 - accuracy: 0.8055 - val_loss: 0.3876 - val_accuracy: 0.8178 - 558ms/epoch - 12ms/step\n",
            "Epoch 15/20\n",
            "46/46 - 0s - loss: 0.0839 - accuracy: 0.8046 - val_loss: 0.3836 - val_accuracy: 0.8199 - 384ms/epoch - 8ms/step\n",
            "Epoch 16/20\n",
            "46/46 - 0s - loss: 0.0836 - accuracy: 0.8079 - val_loss: 0.3871 - val_accuracy: 0.8136 - 348ms/epoch - 8ms/step\n",
            "Epoch 17/20\n",
            "46/46 - 0s - loss: 0.0831 - accuracy: 0.8049 - val_loss: 0.3877 - val_accuracy: 0.8122 - 360ms/epoch - 8ms/step\n",
            "Epoch 18/20\n",
            "46/46 - 0s - loss: 0.0828 - accuracy: 0.8064 - val_loss: 0.3862 - val_accuracy: 0.8171 - 330ms/epoch - 7ms/step\n",
            "Epoch 19/20\n",
            "46/46 - 0s - loss: 0.0825 - accuracy: 0.8068 - val_loss: 0.3863 - val_accuracy: 0.8178 - 337ms/epoch - 7ms/step\n",
            "Epoch 20/20\n",
            "46/46 - 0s - loss: 0.0822 - accuracy: 0.8067 - val_loss: 0.3853 - val_accuracy: 0.8248 - 333ms/epoch - 7ms/step\n"
          ]
        }
      ]
    },
    {
      "cell_type": "code",
      "source": [
        "# Plot the loss value\n",
        "loss = history.history['loss']\n",
        "val_loss = history.history['val_loss']\n",
        "epochs = range(1, len(loss) + 1)\n",
        "plt.plot(epochs, loss, 'bo', label='Training loss')\n",
        "plt.plot(epochs, val_loss, 'b', label='Validation loss')\n",
        "plt.title('Training and validation loss')\n",
        "plt.xlabel('Epochs')\n",
        "plt.ylabel('Loss')\n",
        "plt.legend()\n",
        "plt.show()"
      ],
      "metadata": {
        "colab": {
          "base_uri": "https://localhost:8080/",
          "height": 472
        },
        "id": "PsqJjvALYUV5",
        "outputId": "dd5d994f-eccd-4604-e292-e62df80790e5"
      },
      "execution_count": null,
      "outputs": [
        {
          "output_type": "display_data",
          "data": {
            "text/plain": [
              "<Figure size 640x480 with 1 Axes>"
            ],
            "image/png": "[encoded data removed]"
          },
          "metadata": {}
        }
      ]
    },
    {
      "cell_type": "code",
      "source": [
        "# plot the accuracy rate\n",
        "plt.clf()\n",
        "acc = history.history['accuracy']\n",
        "val_acc = history.history['val_accuracy']\n",
        "plt.plot(epochs, acc, 'bo', label='Training acc')\n",
        "plt.plot(epochs, val_acc, 'b', label='Validation acc')\n",
        "plt.title('Training and validation accuracy')\n",
        "plt.xlabel('Epochs')\n",
        "plt.ylabel('Acuracy')\n",
        "plt.legend()\n",
        "plt.show()"
      ],
      "metadata": {
        "colab": {
          "base_uri": "https://localhost:8080/",
          "height": 472
        },
        "id": "vxCrSAUdYZR7",
        "outputId": "3a0b49cf-d9d9-47e6-90bd-ae76106ec70b"
      },
      "execution_count": null,
      "outputs": [
        {
          "output_type": "display_data",
          "data": {
            "text/plain": [
              "<Figure size 640x480 with 1 Axes>"
            ],
            "image/png": "[encoded data removed]"
          },
          "metadata": {}
        }
      ]
    },
    {
      "cell_type": "markdown",
      "source": [
        "Though the overall accuracy rate decreased, the result on a balanced validation set was good and so was the accuracy rate on Kaggle. And because the loss curver was quite flat, I wanted to adjust the learning rate in the model."
      ],
      "metadata": {
        "id": "djiuSZaaYpbs"
      }
    },
    {
      "cell_type": "markdown",
      "source": [
        "<font color = blue> **DL finalized model and parameter initialization**\n",
        "\n",
        "After several tries, I decided to build the model as following one. I added the layers by chance. I lowered the learning rate in order to stablize the curves. Also, I increased the batch\n",
        "size due to the imbalanced Target data. I thought it could improve because with larger batch size, it contained more Target=1 data."
      ],
      "metadata": {
        "id": "Hdf_-AILYP0Z"
      }
    },
    {
      "cell_type": "code",
      "source": [
        "# Create neural network model by keras\n",
        "model = models.Sequential()\n",
        "model.add(layers.Dense(64, activation='relu', input_shape=(44,)))\n",
        "model.add(layers.Dense(32, activation='relu'))\n",
        "model.add(layers.Dense(16, activation='relu'))\n",
        "model.add(layers.Dense(10, activation='relu'))\n",
        "model.add(layers.Dense(2, activation='softmax'))"
      ],
      "metadata": {
        "id": "L9d1WG-mZARi"
      },
      "execution_count": null,
      "outputs": []
    },
    {
      "cell_type": "code",
      "source": [
        "# To tackle unbalanced data issue, I set the weight of 0 as 0.135 with respect to the weight of 1\n",
        "# 0.135 comes from the approximate ratio of (targets=1)/(targets=0) in the training set\n",
        "dic_weight = {0:0.135, 1:1}"
      ],
      "metadata": {
        "id": "dRSApURLZD5c"
      },
      "execution_count": null,
      "outputs": []
    },
    {
      "cell_type": "code",
      "execution_count": null,
      "metadata": {
        "id": "w0u7u7VyqUar"
      },
      "outputs": [],
      "source": [
        "# The decision of final learning rate is based on the loss curve and accuracy curve when adjusting model\n",
        "keras.optimizers.RMSprop(learning_rate=0.000001)\n",
        "model.compile(optimizer='rmsprop',\n",
        "              loss='categorical_crossentropy',\n",
        "              metrics=['accuracy'],)"
      ]
    },
    {
      "cell_type": "code",
      "execution_count": null,
      "metadata": {
        "id": "yR7jG4UrqUar",
        "outputId": "3a9523a8-2815-45ba-e378-6c408bc17a9b",
        "colab": {
          "base_uri": "https://localhost:8080/"
        }
      },
      "outputs": [
        {
          "output_type": "stream",
          "name": "stdout",
          "text": [
            "Epoch 1/15\n",
            "23/23 - 1s - loss: 0.1390 - accuracy: 0.6596 - val_loss: 0.5122 - val_accuracy: 0.7851 - 1s/epoch - 62ms/step\n",
            "Epoch 2/15\n",
            "23/23 - 0s - loss: 0.1096 - accuracy: 0.7621 - val_loss: 0.4351 - val_accuracy: 0.8060 - 139ms/epoch - 6ms/step\n",
            "Epoch 3/15\n",
            "23/23 - 0s - loss: 0.0979 - accuracy: 0.7885 - val_loss: 0.4115 - val_accuracy: 0.8115 - 149ms/epoch - 6ms/step\n",
            "Epoch 4/15\n",
            "23/23 - 0s - loss: 0.0938 - accuracy: 0.7910 - val_loss: 0.4031 - val_accuracy: 0.8129 - 140ms/epoch - 6ms/step\n",
            "Epoch 5/15\n",
            "23/23 - 0s - loss: 0.0921 - accuracy: 0.7931 - val_loss: 0.3956 - val_accuracy: 0.8108 - 138ms/epoch - 6ms/step\n",
            "Epoch 6/15\n",
            "23/23 - 0s - loss: 0.0909 - accuracy: 0.7928 - val_loss: 0.3924 - val_accuracy: 0.8129 - 139ms/epoch - 6ms/step\n",
            "Epoch 7/15\n",
            "23/23 - 0s - loss: 0.0900 - accuracy: 0.7951 - val_loss: 0.3964 - val_accuracy: 0.8150 - 155ms/epoch - 7ms/step\n",
            "Epoch 8/15\n",
            "23/23 - 0s - loss: 0.0896 - accuracy: 0.7956 - val_loss: 0.3922 - val_accuracy: 0.8185 - 124ms/epoch - 5ms/step\n",
            "Epoch 9/15\n",
            "23/23 - 0s - loss: 0.0889 - accuracy: 0.7983 - val_loss: 0.3912 - val_accuracy: 0.8171 - 132ms/epoch - 6ms/step\n",
            "Epoch 10/15\n",
            "23/23 - 0s - loss: 0.0885 - accuracy: 0.7993 - val_loss: 0.3948 - val_accuracy: 0.8157 - 118ms/epoch - 5ms/step\n",
            "Epoch 11/15\n",
            "23/23 - 0s - loss: 0.0881 - accuracy: 0.7978 - val_loss: 0.3923 - val_accuracy: 0.8171 - 132ms/epoch - 6ms/step\n",
            "Epoch 12/15\n",
            "23/23 - 0s - loss: 0.0881 - accuracy: 0.7996 - val_loss: 0.3884 - val_accuracy: 0.8171 - 121ms/epoch - 5ms/step\n",
            "Epoch 13/15\n",
            "23/23 - 0s - loss: 0.0876 - accuracy: 0.7998 - val_loss: 0.3888 - val_accuracy: 0.8220 - 126ms/epoch - 5ms/step\n",
            "Epoch 14/15\n",
            "23/23 - 0s - loss: 0.0874 - accuracy: 0.7996 - val_loss: 0.3881 - val_accuracy: 0.8178 - 143ms/epoch - 6ms/step\n",
            "Epoch 15/15\n",
            "23/23 - 0s - loss: 0.0871 - accuracy: 0.7999 - val_loss: 0.3870 - val_accuracy: 0.8178 - 133ms/epoch - 6ms/step\n"
          ]
        }
      ],
      "source": [
        "history = model.fit(partial_x_train,\n",
        "                    partial_y_train,\n",
        "                    epochs=15,\n",
        "                    batch_size=1024,\n",
        "                    validation_data=(x_val_bal, y_val_bal),\n",
        "                    verbose=2, class_weight=dic_weight)"
      ]
    },
    {
      "cell_type": "code",
      "execution_count": null,
      "metadata": {
        "id": "z6y4L2iEqUas",
        "outputId": "143c04ae-3606-4106-9b4b-7f533abbb7f4",
        "colab": {
          "base_uri": "https://localhost:8080/",
          "height": 472
        }
      },
      "outputs": [
        {
          "output_type": "display_data",
          "data": {
            "text/plain": [
              "<Figure size 640x480 with 1 Axes>"
            ],
            "image/png": "[encoded data removed]"
          },
          "metadata": {}
        }
      ],
      "source": [
        "# Plot the loss value\n",
        "loss = history.history['loss']\n",
        "val_loss = history.history['val_loss']\n",
        "epochs = range(1, len(loss) + 1)\n",
        "\n",
        "plt.plot(epochs, loss, 'bo', label='Training loss')\n",
        "plt.plot(epochs, val_loss, 'b', label='Validation loss')\n",
        "plt.title('Training and validation loss')\n",
        "plt.xlabel('Epochs')\n",
        "plt.ylabel('Loss')\n",
        "plt.legend()\n",
        "plt.show()"
      ]
    },
    {
      "cell_type": "code",
      "execution_count": null,
      "metadata": {
        "id": "7tjeY8-TqUas",
        "outputId": "59595ebb-606e-45a2-b481-497aed7a720b",
        "colab": {
          "base_uri": "https://localhost:8080/",
          "height": 472
        }
      },
      "outputs": [
        {
          "output_type": "display_data",
          "data": {
            "text/plain": [
              "<Figure size 640x480 with 1 Axes>"
            ],
            "image/png": "[encoded data removed]"
          },
          "metadata": {}
        }
      ],
      "source": [
        "# plot the accuracy rate\n",
        "plt.clf()\n",
        "acc = history.history['accuracy']\n",
        "val_acc = history.history['val_accuracy']\n",
        "\n",
        "plt.plot(epochs, acc, 'bo', label='Training acc')\n",
        "plt.plot(epochs, val_acc, 'b', label='Validation acc')\n",
        "plt.title('Training and validation accuracy')\n",
        "plt.xlabel('Epochs')\n",
        "plt.ylabel('Acuracy')\n",
        "plt.legend()\n",
        "plt.show()"
      ]
    },
    {
      "cell_type": "code",
      "source": [
        "# Predicts based on the test set\n",
        "predictions = model.predict(x_test_np)\n",
        "print(predictions)"
      ],
      "metadata": {
        "colab": {
          "base_uri": "https://localhost:8080/"
        },
        "id": "8Z_VRtedZXxt",
        "outputId": "1db3762a-60a8-45d6-93e1-30aeb46baca5"
      },
      "execution_count": null,
      "outputs": [
        {
          "output_type": "stream",
          "name": "stdout",
          "text": [
            "604/604 [==============================] - 1s 1ms/step\n",
            "[[0.99641174 0.00358829]\n",
            " [0.358562   0.64143795]\n",
            " [0.05764448 0.9423556 ]\n",
            " ...\n",
            " [0.50622016 0.49377978]\n",
            " [0.90992224 0.09007777]\n",
            " [0.00195023 0.9980497 ]]\n"
          ]
        }
      ]
    },
    {
      "cell_type": "code",
      "execution_count": null,
      "metadata": {
        "id": "s9pdPS14qUat"
      },
      "outputs": [],
      "source": [
        "# Determine the final predictions by choosing the index of larger value in predictions array\n",
        "# Eg. If a prediction is [0.1,0.9], then the final prediction is 1 since 0.9 > 0.1\n",
        "predictions_final = np.argmax(predictions, axis = 1)\n",
        "\n",
        "# Convert predictions array into dataframe and combine it with ID column for final submission\n",
        "target = pd.DataFrame(predictions_final, dtype = int, columns = ['Target'])\n",
        "sub = x_test['ID']\n",
        "sub = pd.concat( [sub, target], axis=1 )"
      ]
    },
    {
      "cell_type": "code",
      "execution_count": null,
      "metadata": {
        "id": "jZ0hyKjAqUat"
      },
      "outputs": [],
      "source": [
        "# Export the predictions result into csv file\n",
        "pd.DataFrame(sub).to_csv(\"sub_final.csv\",index = False)"
      ]
    },
    {
      "cell_type": "markdown",
      "source": [
        "## <font color = red> **Part B - Prediction result**"
      ],
      "metadata": {
        "id": "NMlhr0yaaJ97"
      }
    },
    {
      "cell_type": "code",
      "source": [
        "# Original predicted array produced from the model\n",
        "print(predictions)"
      ],
      "metadata": {
        "colab": {
          "base_uri": "https://localhost:8080/"
        },
        "id": "6nWf6jaOaank",
        "outputId": "4c96b8c0-09d8-42c4-a094-d40684a71ad6"
      },
      "execution_count": null,
      "outputs": [
        {
          "output_type": "stream",
          "name": "stdout",
          "text": [
            "[[0.99641174 0.00358829]\n",
            " [0.358562   0.64143795]\n",
            " [0.05764448 0.9423556 ]\n",
            " ...\n",
            " [0.50622016 0.49377978]\n",
            " [0.90992224 0.09007777]\n",
            " [0.00195023 0.9980497 ]]\n"
          ]
        }
      ]
    },
    {
      "cell_type": "code",
      "source": [
        "# Transferred predictions from the predicted array\n",
        "print(predictions_final)"
      ],
      "metadata": {
        "colab": {
          "base_uri": "https://localhost:8080/"
        },
        "id": "nA13SpMJadfo",
        "outputId": "e06a8a35-c640-4953-8a0d-718d82baa547"
      },
      "execution_count": null,
      "outputs": [
        {
          "output_type": "stream",
          "name": "stdout",
          "text": [
            "[0 1 1 ... 0 0 1]\n"
          ]
        }
      ]
    },
    {
      "cell_type": "code",
      "source": [
        "print(\"Number of samples predicted as 1: \", predictions_final.sum())\n",
        "print(\"Number of samples predicted as 0: \", len(predictions_final)-predictions_final.sum())"
      ],
      "metadata": {
        "colab": {
          "base_uri": "https://localhost:8080/"
        },
        "id": "waxPpb9fahEa",
        "outputId": "7c4a111d-8bea-4b28-d8a1-ea96ced8724c"
      },
      "execution_count": null,
      "outputs": [
        {
          "output_type": "stream",
          "name": "stdout",
          "text": [
            "Number of samples predicted as 1:  9257\n",
            "Number of samples predicted as 0:  10071\n"
          ]
        }
      ]
    },
    {
      "cell_type": "markdown",
      "source": [
        "**Learning and conclusion:**\n",
        "\n",
        "In the beginning, only a few data points were predicted as 1. After I adjusted weights, the outcome became more balanced and the accuracy rate on both public and pivate sets on Kaggle increased a lot to around 80%, showing that the key factor to build a good model in this competition is to be careful about the imbalanced data problem."
      ],
      "metadata": {
        "id": "4Gfws5HWajsH"
      }
    }
  ],
  "metadata": {
    "kernelspec": {
      "display_name": "Python 3",
      "language": "python",
      "name": "python3"
    },
    "language_info": {
      "codemirror_mode": {
        "name": "ipython",
        "version": 3
      },
      "file_extension": ".py",
      "mimetype": "text/x-python",
      "name": "python",
      "nbconvert_exporter": "python",
      "pygments_lexer": "ipython3",
      "version": "3.7.3"
    },
    "colab": {
      "provenance": []
    }
  },
  "nbformat": 4,
  "nbformat_minor": 0
}